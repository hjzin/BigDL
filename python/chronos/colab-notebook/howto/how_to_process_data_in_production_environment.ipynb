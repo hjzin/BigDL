{
 "cells": [
  {
   "cell_type": "markdown",
   "metadata": {},
   "source": [
    "# A whole workflow in production environment after my forecaster is developed\n",
    "\n",
    "In model developing process, `TSDataset` is used to preprocess(including feature engineering, data sampling, scaling, ...) the raw data the postprocess the predicted result(majorly unscaling). This post provides a way by which users could replay the preprocessing and postprocessing in production environment(e.g. model serving).\n",
    "\n",
    "In this guide, we will\n",
    "\n",
    "1. Train a TCNForecaster with nyc_taxi dataset and export the model in onnx type and save the scaler.\n",
    "2. Show users how to replay the preprocessing and postprocessing in production environment.\n",
    "3. Evaluate the performance of preprocessing and postprocessing\n",
    "4. More tips about this topic."
   ]
  },
  {
   "cell_type": "markdown",
   "metadata": {},
   "source": [
    "## Forecaster developing\n",
    "\n",
    "First let's prepare the data. We will manually download the data to show the details."
   ]
  },
  {
   "cell_type": "code",
   "execution_count": 15,
   "metadata": {},
   "outputs": [
    {
     "name": "stdout",
     "output_type": "stream",
     "text": [
      "--2022-12-22 16:25:26--  https://raw.githubusercontent.com/numenta/NAB/v1.0/data/realKnownCause/nyc_taxi.csv\n",
      "Resolving proxy-prc.intel.com (proxy-prc.intel.com)... 10.240.252.16\n",
      "Connecting to proxy-prc.intel.com (proxy-prc.intel.com)|10.240.252.16|:913... connected.\n",
      "Proxy request sent, awaiting response... 200 OK\n",
      "Length: 265771 (260K) [text/plain]\n",
      "Saving to: ‘nyc_taxi.csv.1’\n",
      "\n",
      "nyc_taxi.csv.1      100%[===================>] 259.54K   362KB/s    in 0.7s    \n",
      "\n",
      "2022-12-22 16:25:27 (362 KB/s) - ‘nyc_taxi.csv.1’ saved [265771/265771]\n",
      "\n"
     ]
    }
   ],
   "source": [
    "# run following\n",
    "!wget https://raw.githubusercontent.com/numenta/NAB/v1.0/data/realKnownCause/nyc_taxi.csv"
   ]
  },
  {
   "cell_type": "markdown",
   "metadata": {},
   "source": [
    "Then we may load the data to pandas dataframe and carry out preprocessing through `TSDataset`. You could refer to\n",
    "\n",
    "- [How to preprocess my own data](https://bigdl.readthedocs.io/en/latest/doc/Chronos/Howto/how_to_preprocess_my_data.html)\n",
    "- [How to sample data through sliding window]()\n",
    "\n",
    "for details."
   ]
  },
  {
   "cell_type": "code",
   "execution_count": 1,
   "metadata": {},
   "outputs": [],
   "source": [
    "from sklearn.preprocessing import StandardScaler\n",
    "from bigdl.chronos.data import TSDataset, get_public_dataset\n",
    "import pandas as pd\n",
    "\n",
    "# load the data to pandas dataframe\n",
    "df = pd.read_csv(\"nyc_taxi.csv\", parse_dates=[\"timestamp\"])\n",
    "\n",
    "# use nyc_taxi public dataset\n",
    "train_data, _, test_data = TSDataset.from_pandas(df,\n",
    "                                                 dt_col=\"timestamp\",\n",
    "                                                 target_col=\"value\",\n",
    "                                                 repair=False,\n",
    "                                                 with_split=True,\n",
    "                                                 test_ratio=0.1)\n",
    "\n",
    "# create a scaler for data scaling\n",
    "scaler = StandardScaler()\n",
    "\n",
    "# preprocess(generate datetime feature, scale and roll samping)\n",
    "for data in [train_data, test_data]:\n",
    "    data.gen_dt_feature(features=[\"WEEKDAY\", \"HOUR\", \"MINUTES\"])\\\n",
    "        .scale(scaler, fit=(data is train_data))\\\n",
    "        .roll(lookback=48, horizon=24)"
   ]
  },
  {
   "cell_type": "markdown",
   "metadata": {},
   "source": [
    "Developing a forecaster on this data is quite easy. You may refer to other how-to guide for more detailed information.\n",
    "\n",
    "- [How to create a Forecaster](https://bigdl.readthedocs.io/en/latest/doc/Chronos/Howto/how_to_create_forecaster.html)\n",
    "- [Train forcaster on single node](https://bigdl.readthedocs.io/en/latest/doc/Chronos/Howto/how_to_train_forecaster_on_one_node.html)"
   ]
  },
  {
   "cell_type": "code",
   "execution_count": 2,
   "metadata": {},
   "outputs": [
    {
     "name": "stderr",
     "output_type": "stream",
     "text": [
      "/home/zhaojieh/miniconda3/envs/chronos-dev/lib/python3.7/site-packages/tqdm/auto.py:22: TqdmWarning: IProgress not found. Please update jupyter and ipywidgets. See https://ipywidgets.readthedocs.io/en/stable/user_install.html\n",
      "  from .autonotebook import tqdm as notebook_tqdm\n",
      "Global seed set to 2566135082\n",
      "Global seed set to 2566135082\n",
      "GPU available: False, used: False\n",
      "TPU available: False, using: 0 TPU cores\n",
      "IPU available: False, using: 0 IPUs\n",
      "HPU available: False, using: 0 HPUs\n",
      "\n",
      "  | Name  | Type             | Params\n",
      "-------------------------------------------\n",
      "0 | model | NormalizeTSModel | 5.6 K \n",
      "1 | loss  | MSELoss          | 0     \n",
      "-------------------------------------------\n",
      "5.6 K     Trainable params\n",
      "0         Non-trainable params\n",
      "5.6 K     Total params\n",
      "0.022     Total estimated model params size (MB)\n"
     ]
    },
    {
     "name": "stdout",
     "output_type": "stream",
     "text": [
      "Epoch 0: 100%|██████████| 289/289 [00:02<00:00, 114.66it/s, loss=0.266]\n"
     ]
    }
   ],
   "source": [
    "from bigdl.chronos.forecaster import TCNForecaster  # TCN is algorithm name\n",
    "\n",
    "# create a forecaster\n",
    "forecaster = TCNForecaster.from_tsdataset(train_data)\n",
    "\n",
    "# train the forecaster\n",
    "forecaster.fit(train_data)"
   ]
  },
  {
   "cell_type": "markdown",
   "metadata": {},
   "source": [
    "`Forecaster` API is for quick iteration during the development, when a forecaster is developed with satisfying accuracy and performance, users may prefer to export the model to formats that are easier to deploy in production environment (e.g., ONNX, openVINO, torchscript, ...). We choose to use ONNX here as an example. You may refer to other how to guides for more details.\n",
    "\n",
    "- [Export the ONNX model files to disk](https://bigdl.readthedocs.io/en/latest/doc/Chronos/Howto/how_to_export_onnx_files.html)\n",
    "- [Export the OpenVINO model files to disk](https://bigdl.readthedocs.io/en/latest/doc/Chronos/Howto/how_to_export_openvino_files.html)\n",
    "- [Export the TorchScript model files to disk](https://bigdl.readthedocs.io/en/latest/doc/Chronos/Howto/how_to_export_torchscript_files.html)"
   ]
  },
  {
   "cell_type": "code",
   "execution_count": 3,
   "metadata": {},
   "outputs": [
    {
     "name": "stderr",
     "output_type": "stream",
     "text": [
      "/home/zhaojieh/BigDL-hzj/python/chronos/src/bigdl/chronos/forecaster/base_forecaster.py:1487: UserWarning: The environment variable OMP_NUM_THREADS is suggested to be same as thread_num.You can use 'export OMP_NUM_THREADS=1'.\n",
      "  warnings.warn(\"The environment variable OMP_NUM_THREADS is suggested to be same \"\n"
     ]
    }
   ],
   "source": [
    "# save the forecaster in onnx type\n",
    "forecaster.export_onnx_file(dirname=\"nyc_taxi_onnx_model\", quantized_dirname=None)"
   ]
  },
  {
   "cell_type": "code",
   "execution_count": 4,
   "metadata": {},
   "outputs": [
    {
     "name": "stderr",
     "output_type": "stream",
     "text": [
      "/home/zhaojieh/BigDL-hzj/python/chronos/src/bigdl/chronos/forecaster/base_forecaster.py:1567: UserWarning: The environment variable OMP_NUM_THREADS is suggested to be same as thread_num.You can use 'export OMP_NUM_THREADS=1'.\n",
      "  warnings.warn(\"The environment variable OMP_NUM_THREADS is suggested to be same \"\n"
     ]
    }
   ],
   "source": [
    "from pathlib import Path\n",
    "module_dir = Path(\"forecaster\")\n",
    "module_dir.mkdir(exist_ok=True)\n",
    "forecaster.export_torchscript_module(train_data, path_dir=\"forecaster\")\n",
    "\n",
    "module_dir = Path(\"forecaster_ts\")\n",
    "module_dir.mkdir(exist_ok=True)\n",
    "forecaster.export_torchscript_file(dirname=module_dir)"
   ]
  },
  {
   "cell_type": "markdown",
   "metadata": {},
   "source": [
    "If a scaler is used during the preprocessing process, then it should be saved for production environment."
   ]
  },
  {
   "cell_type": "code",
   "execution_count": 5,
   "metadata": {},
   "outputs": [],
   "source": [
    "import pickle\n",
    "\n",
    "# save the scaler\n",
    "# There are many ways, we use pickle here\n",
    "with open('scaler.pkl','wb') as f:\n",
    "    pickle.dump(scaler, f)"
   ]
  },
  {
   "cell_type": "markdown",
   "metadata": {},
   "source": [
    "## In production environment\n",
    "When you have successfully developed a model your are really satisfied with, then it's time to deploy your model. With the highly optimized model you just exported, the whole process could be suprising easy.\n",
    "\n",
    "There are 2 possibilities for deployment:\n",
    "1. You will use the model in a monolithic application, where the input, model inference and output is located on the same server.\n",
    "2. You will use a server-client model, where you may want to adopt some model serving tools (e.g., torchserve, OpenVINO server, Triton, ...). This means that users will seperate model inference with other workload.\n",
    "\n",
    "For the first choice, you may directly call some inference engine API (e.g., onnxruntime, OpenVINO, ...) in your application. For the second choice, this may depends on different model serving tools' procedure. We have [an example to serve a forecaster on torchserve](https://github.com/intel-analytics/BigDL/tree/main/python/chronos/example/serving)."
   ]
  },
  {
   "cell_type": "markdown",
   "metadata": {},
   "source": [
    "For both choicies, it's common to have a single sample data to come, here we use the last sample of nyc taxi dataset as example"
   ]
  },
  {
   "cell_type": "code",
   "execution_count": 6,
   "metadata": {},
   "outputs": [],
   "source": [
    "# generate data to predict in a local csv file\n",
    "_, _, test_data = get_public_dataset(\"nyc_taxi\")\n",
    "test_data.df[-48:].to_csv(\"inference_data.csv\", index=False)"
   ]
  },
  {
   "cell_type": "markdown",
   "metadata": {},
   "source": [
    "Then we could load all the items we need, this includes the scaler and onnx file we just dumped, and the data to be inferenced."
   ]
  },
  {
   "cell_type": "code",
   "execution_count": 7,
   "metadata": {},
   "outputs": [],
   "source": [
    "import onnxruntime\n",
    "\n",
    "# load the scaler\n",
    "with open('scaler.pkl', 'rb') as f:\n",
    "    scaler = pickle.load(f)\n",
    "\n",
    "# load the onnx file to onnxruntime\n",
    "session = onnxruntime.InferenceSession(\"nyc_taxi_onnx_model/onnx_saved_model.onnx\")\n",
    "\n",
    "# load the data to be predicted\n",
    "df = pd.read_csv(\"inference_data.csv\", parse_dates=[\"timestamp\"])"
   ]
  },
  {
   "cell_type": "markdown",
   "metadata": {},
   "source": [
    "The preprocess process should be the same as how you processed your data when developing the forecaster, except\n",
    "\n",
    "> 📝**Note**\n",
    "> \n",
    "> There are 2 exceptions here that should be followed carefully\n",
    ">\n",
    "> - Please make sure to set `deploy_mode=True` when creating TSDataset through `TSDataset.from_pandas`, `TSDataset.from_parquet` and `TSDataset.from_prometheus`, which will reduce data processing latency and set necessary parameters for deployment.\n",
    "> \n",
    "> - For `scale`, please make sure using the scaler you dumped and loaded back."
   ]
  },
  {
   "cell_type": "code",
   "execution_count": 8,
   "metadata": {},
   "outputs": [],
   "source": [
    "def preprocess_during_deployment(df, scaler):\n",
    "    tsdata = TSDataset.from_pandas(df,\n",
    "                                   dt_col=\"timestamp\",\n",
    "                                   target_col=\"value\",\n",
    "                                   repair=False,\n",
    "                                   deploy_mode=True)\n",
    "    tsdata.gen_dt_feature(features=[\"WEEKDAY\", \"HOUR\", \"MINUTES\"])\\\n",
    "          .scale(scaler)\\\n",
    "          .roll(lookback=48, horizon=24)\n",
    "    data = tsdata.to_numpy()\n",
    "    return tsdata, data"
   ]
  },
  {
   "cell_type": "markdown",
   "metadata": {},
   "source": [
    "For postprocessing, if scaler is used, then `unscale_numpy` is needed."
   ]
  },
  {
   "cell_type": "code",
   "execution_count": 9,
   "metadata": {},
   "outputs": [],
   "source": [
    "def postprocess_during_deployment(data, tsdata):\n",
    "    return tsdata.unscale_numpy(data)"
   ]
  },
  {
   "cell_type": "markdown",
   "metadata": {},
   "source": [
    "They users could predict the data easily by a clear process."
   ]
  },
  {
   "cell_type": "code",
   "execution_count": 10,
   "metadata": {},
   "outputs": [],
   "source": [
    "tsdata, data = preprocess_during_deployment(df, scaler)\n",
    "data = session.run(None, {'x': data})[0]\n",
    "processed_data = postprocess_during_deployment(data, tsdata)\n"
   ]
  },
  {
   "cell_type": "code",
   "execution_count": 11,
   "metadata": {},
   "outputs": [],
   "source": [
    "import torch\n",
    "tsdata, data = preprocess_during_deployment(df, scaler)\n",
    "input_tensor = torch.from_numpy(data)\n",
    "module = torch.jit.load(Path(\"forecaster_ts\") / \"ckpt.pth\")\n",
    "data = module.forward(input_tensor)\n",
    "processed_data_1 = postprocess_during_deployment(data.numpy(), tsdata)"
   ]
  },
  {
   "cell_type": "code",
   "execution_count": 15,
   "metadata": {},
   "outputs": [
    {
     "ename": "KeyboardInterrupt",
     "evalue": "",
     "output_type": "error",
     "traceback": [
      "\u001b[0;31m---------------------------------------------------------------------------\u001b[0m",
      "\u001b[0;31mKeyError\u001b[0m                                  Traceback (most recent call last)",
      "\u001b[0;32m_pydevd_frame_eval/pydevd_frame_evaluator.pyx\u001b[0m in \u001b[0;36m_pydevd_frame_eval.pydevd_frame_evaluator.get_func_code_info\u001b[0;34m()\u001b[0m\n",
      "\u001b[0;31mKeyError\u001b[0m: '/home/zhaojieh/miniconda3/envs/chronos-dev/lib/python3.7/site-packages/pandas/core/groupby/ops.py'",
      "\nDuring handling of the above exception, another exception occurred:\n",
      "\u001b[0;31mKeyError\u001b[0m                                  Traceback (most recent call last)",
      "\u001b[0;32m~/miniconda3/envs/chronos-dev/lib/python3.7/site-packages/debugpy/_vendored/pydevd/pydevd_file_utils.py\u001b[0m in \u001b[0;36mget_abs_path_real_path_and_base_from_frame\u001b[0;34m(frame, NORM_PATHS_AND_BASE_CONTAINER)\u001b[0m\n\u001b[1;32m    866\u001b[0m     \u001b[0;32mtry\u001b[0m\u001b[0;34m:\u001b[0m\u001b[0;34m\u001b[0m\u001b[0;34m\u001b[0m\u001b[0m\n\u001b[0;32m--> 867\u001b[0;31m         \u001b[0;32mreturn\u001b[0m \u001b[0mNORM_PATHS_AND_BASE_CONTAINER\u001b[0m\u001b[0;34m[\u001b[0m\u001b[0mframe\u001b[0m\u001b[0;34m.\u001b[0m\u001b[0mf_code\u001b[0m\u001b[0;34m.\u001b[0m\u001b[0mco_filename\u001b[0m\u001b[0;34m]\u001b[0m\u001b[0;34m\u001b[0m\u001b[0;34m\u001b[0m\u001b[0m\n\u001b[0m\u001b[1;32m    868\u001b[0m     \u001b[0;32mexcept\u001b[0m\u001b[0;34m:\u001b[0m\u001b[0;34m\u001b[0m\u001b[0;34m\u001b[0m\u001b[0m\n",
      "\u001b[0;31mKeyError\u001b[0m: '/home/zhaojieh/miniconda3/envs/chronos-dev/lib/python3.7/site-packages/pandas/core/groupby/ops.py'",
      "\nDuring handling of the above exception, another exception occurred:\n",
      "\u001b[0;31mKeyError\u001b[0m                                  Traceback (most recent call last)",
      "\u001b[0;32m~/miniconda3/envs/chronos-dev/lib/python3.7/site-packages/debugpy/_vendored/pydevd/pydevd_file_utils.py\u001b[0m in \u001b[0;36mget_abs_path_real_path_and_base_from_file\u001b[0;34m(filename, NORM_PATHS_AND_BASE_CONTAINER)\u001b[0m\n\u001b[1;32m    830\u001b[0m     \u001b[0;32mtry\u001b[0m\u001b[0;34m:\u001b[0m\u001b[0;34m\u001b[0m\u001b[0;34m\u001b[0m\u001b[0m\n\u001b[0;32m--> 831\u001b[0;31m         \u001b[0;32mreturn\u001b[0m \u001b[0mNORM_PATHS_AND_BASE_CONTAINER\u001b[0m\u001b[0;34m[\u001b[0m\u001b[0mfilename\u001b[0m\u001b[0;34m]\u001b[0m\u001b[0;34m\u001b[0m\u001b[0;34m\u001b[0m\u001b[0m\n\u001b[0m\u001b[1;32m    832\u001b[0m     \u001b[0;32mexcept\u001b[0m\u001b[0;34m:\u001b[0m\u001b[0;34m\u001b[0m\u001b[0;34m\u001b[0m\u001b[0m\n",
      "\u001b[0;31mKeyError\u001b[0m: '/home/zhaojieh/miniconda3/envs/chronos-dev/lib/python3.7/site-packages/pandas/core/groupby/ops.py'",
      "\nDuring handling of the above exception, another exception occurred:\n",
      "\u001b[0;31mKeyError\u001b[0m                                  Traceback (most recent call last)",
      "\u001b[0;32m~/miniconda3/envs/chronos-dev/lib/python3.7/site-packages/debugpy/_vendored/pydevd/pydevd_file_utils.py\u001b[0m in \u001b[0;36m_abs_and_canonical_path\u001b[0;34m(filename, NORM_PATHS_CONTAINER)\u001b[0m\n\u001b[1;32m    384\u001b[0m     \u001b[0;32mtry\u001b[0m\u001b[0;34m:\u001b[0m\u001b[0;34m\u001b[0m\u001b[0;34m\u001b[0m\u001b[0m\n\u001b[0;32m--> 385\u001b[0;31m         \u001b[0;32mreturn\u001b[0m \u001b[0mNORM_PATHS_CONTAINER\u001b[0m\u001b[0;34m[\u001b[0m\u001b[0mfilename\u001b[0m\u001b[0;34m]\u001b[0m\u001b[0;34m\u001b[0m\u001b[0;34m\u001b[0m\u001b[0m\n\u001b[0m\u001b[1;32m    386\u001b[0m     \u001b[0;32mexcept\u001b[0m\u001b[0;34m:\u001b[0m\u001b[0;34m\u001b[0m\u001b[0;34m\u001b[0m\u001b[0m\n",
      "\u001b[0;31mKeyError\u001b[0m: '/home/zhaojieh/miniconda3/envs/chronos-dev/lib/python3.7/site-packages/pandas/core/groupby/ops.py'",
      "\nDuring handling of the above exception, another exception occurred:\n",
      "\u001b[0;31mKeyboardInterrupt\u001b[0m                         Traceback (most recent call last)",
      "\u001b[0;32m_pydevd_frame_eval/pydevd_frame_evaluator.pyx\u001b[0m in \u001b[0;36m_pydevd_frame_eval.pydevd_frame_evaluator.get_func_code_info\u001b[0;34m()\u001b[0m\n",
      "\u001b[0;32m~/miniconda3/envs/chronos-dev/lib/python3.7/site-packages/debugpy/_vendored/pydevd/pydevd_file_utils.py\u001b[0m in \u001b[0;36mget_abs_path_real_path_and_base_from_frame\u001b[0;34m(frame, NORM_PATHS_AND_BASE_CONTAINER)\u001b[0m\n\u001b[1;32m    883\u001b[0m             \u001b[0;32mreturn\u001b[0m \u001b[0mf\u001b[0m\u001b[0;34m,\u001b[0m \u001b[0mf\u001b[0m\u001b[0;34m,\u001b[0m \u001b[0mf\u001b[0m\u001b[0;34m[\u001b[0m\u001b[0mi\u001b[0m \u001b[0;34m+\u001b[0m \u001b[0;36m1\u001b[0m\u001b[0;34m:\u001b[0m\u001b[0;34m]\u001b[0m\u001b[0;34m\u001b[0m\u001b[0;34m\u001b[0m\u001b[0m\n\u001b[1;32m    884\u001b[0m \u001b[0;34m\u001b[0m\u001b[0m\n\u001b[0;32m--> 885\u001b[0;31m         \u001b[0mret\u001b[0m \u001b[0;34m=\u001b[0m \u001b[0mget_abs_path_real_path_and_base_from_file\u001b[0m\u001b[0;34m(\u001b[0m\u001b[0mf\u001b[0m\u001b[0;34m)\u001b[0m\u001b[0;34m\u001b[0m\u001b[0;34m\u001b[0m\u001b[0m\n\u001b[0m\u001b[1;32m    886\u001b[0m         \u001b[0;31m# Also cache based on the frame.f_code.co_filename (if we had it inside build/bdist it can make a difference).\u001b[0m\u001b[0;34m\u001b[0m\u001b[0;34m\u001b[0m\u001b[0;34m\u001b[0m\u001b[0m\n\u001b[1;32m    887\u001b[0m         \u001b[0mNORM_PATHS_AND_BASE_CONTAINER\u001b[0m\u001b[0;34m[\u001b[0m\u001b[0mframe\u001b[0m\u001b[0;34m.\u001b[0m\u001b[0mf_code\u001b[0m\u001b[0;34m.\u001b[0m\u001b[0mco_filename\u001b[0m\u001b[0;34m]\u001b[0m \u001b[0;34m=\u001b[0m \u001b[0mret\u001b[0m\u001b[0;34m\u001b[0m\u001b[0;34m\u001b[0m\u001b[0m\n",
      "\u001b[0;32m~/miniconda3/envs/chronos-dev/lib/python3.7/site-packages/debugpy/_vendored/pydevd/pydevd_file_utils.py\u001b[0m in \u001b[0;36mget_abs_path_real_path_and_base_from_file\u001b[0;34m(filename, NORM_PATHS_AND_BASE_CONTAINER)\u001b[0m\n\u001b[1;32m    850\u001b[0m                 \u001b[0mf\u001b[0m \u001b[0;34m=\u001b[0m \u001b[0mf\u001b[0m\u001b[0;34m[\u001b[0m\u001b[0;34m:\u001b[0m\u001b[0;34m-\u001b[0m\u001b[0mlen\u001b[0m\u001b[0;34m(\u001b[0m\u001b[0;34m'$py.class'\u001b[0m\u001b[0;34m)\u001b[0m\u001b[0;34m]\u001b[0m \u001b[0;34m+\u001b[0m \u001b[0;34m'.py'\u001b[0m\u001b[0;34m\u001b[0m\u001b[0;34m\u001b[0m\u001b[0m\n\u001b[1;32m    851\u001b[0m \u001b[0;34m\u001b[0m\u001b[0m\n\u001b[0;32m--> 852\u001b[0;31m         \u001b[0mabs_path\u001b[0m\u001b[0;34m,\u001b[0m \u001b[0mcanonical_normalized_filename\u001b[0m \u001b[0;34m=\u001b[0m \u001b[0m_abs_and_canonical_path\u001b[0m\u001b[0;34m(\u001b[0m\u001b[0mf\u001b[0m\u001b[0;34m)\u001b[0m\u001b[0;34m\u001b[0m\u001b[0;34m\u001b[0m\u001b[0m\n\u001b[0m\u001b[1;32m    853\u001b[0m \u001b[0;34m\u001b[0m\u001b[0m\n\u001b[1;32m    854\u001b[0m         \u001b[0;32mtry\u001b[0m\u001b[0;34m:\u001b[0m\u001b[0;34m\u001b[0m\u001b[0;34m\u001b[0m\u001b[0m\n",
      "\u001b[0;32m~/miniconda3/envs/chronos-dev/lib/python3.7/site-packages/debugpy/_vendored/pydevd/pydevd_file_utils.py\u001b[0m in \u001b[0;36m_abs_and_canonical_path\u001b[0;34m(filename, NORM_PATHS_CONTAINER)\u001b[0m\n\u001b[1;32m    409\u001b[0m \u001b[0;34m\u001b[0m\u001b[0m\n\u001b[1;32m    410\u001b[0m         \u001b[0mnormalize\u001b[0m \u001b[0;34m=\u001b[0m \u001b[0;32mTrue\u001b[0m\u001b[0;34m\u001b[0m\u001b[0;34m\u001b[0m\u001b[0m\n\u001b[0;32m--> 411\u001b[0;31m         \u001b[0mreal_path\u001b[0m \u001b[0;34m=\u001b[0m \u001b[0m_apply_func_and_normalize_case\u001b[0m\u001b[0;34m(\u001b[0m\u001b[0mfilename\u001b[0m\u001b[0;34m,\u001b[0m \u001b[0mos_path_real_path\u001b[0m\u001b[0;34m,\u001b[0m \u001b[0misabs\u001b[0m\u001b[0;34m,\u001b[0m \u001b[0mnormalize\u001b[0m\u001b[0;34m)\u001b[0m\u001b[0;34m\u001b[0m\u001b[0;34m\u001b[0m\u001b[0m\n\u001b[0m\u001b[1;32m    412\u001b[0m \u001b[0;34m\u001b[0m\u001b[0m\n\u001b[1;32m    413\u001b[0m         \u001b[0;31m# cache it for fast access later\u001b[0m\u001b[0;34m\u001b[0m\u001b[0;34m\u001b[0m\u001b[0;34m\u001b[0m\u001b[0m\n",
      "\u001b[0;32m~/miniconda3/envs/chronos-dev/lib/python3.7/site-packages/debugpy/_vendored/pydevd/pydevd_file_utils.py\u001b[0m in \u001b[0;36m_apply_func_and_normalize_case\u001b[0;34m(filename, func, isabs, normalize_case, os_path_exists, join)\u001b[0m\n\u001b[1;32m    436\u001b[0m         \u001b[0;32mreturn\u001b[0m \u001b[0mfilename\u001b[0m\u001b[0;34m\u001b[0m\u001b[0;34m\u001b[0m\u001b[0m\n\u001b[1;32m    437\u001b[0m \u001b[0;34m\u001b[0m\u001b[0m\n\u001b[0;32m--> 438\u001b[0;31m     \u001b[0mr\u001b[0m \u001b[0;34m=\u001b[0m \u001b[0mfunc\u001b[0m\u001b[0;34m(\u001b[0m\u001b[0mfilename\u001b[0m\u001b[0;34m)\u001b[0m\u001b[0;34m\u001b[0m\u001b[0;34m\u001b[0m\u001b[0m\n\u001b[0m\u001b[1;32m    439\u001b[0m \u001b[0;34m\u001b[0m\u001b[0m\n\u001b[1;32m    440\u001b[0m     \u001b[0;32mif\u001b[0m \u001b[0;32mnot\u001b[0m \u001b[0misabs\u001b[0m\u001b[0;34m:\u001b[0m\u001b[0;34m\u001b[0m\u001b[0;34m\u001b[0m\u001b[0m\n",
      "\u001b[0;32m~/miniconda3/envs/chronos-dev/lib/python3.7/posixpath.py\u001b[0m in \u001b[0;36mrealpath\u001b[0;34m(filename)\u001b[0m\n\u001b[1;32m    393\u001b[0m symbolic links encountered in the path.\"\"\"\n\u001b[1;32m    394\u001b[0m     \u001b[0mfilename\u001b[0m \u001b[0;34m=\u001b[0m \u001b[0mos\u001b[0m\u001b[0;34m.\u001b[0m\u001b[0mfspath\u001b[0m\u001b[0;34m(\u001b[0m\u001b[0mfilename\u001b[0m\u001b[0;34m)\u001b[0m\u001b[0;34m\u001b[0m\u001b[0;34m\u001b[0m\u001b[0m\n\u001b[0;32m--> 395\u001b[0;31m     \u001b[0mpath\u001b[0m\u001b[0;34m,\u001b[0m \u001b[0mok\u001b[0m \u001b[0;34m=\u001b[0m \u001b[0m_joinrealpath\u001b[0m\u001b[0;34m(\u001b[0m\u001b[0mfilename\u001b[0m\u001b[0;34m[\u001b[0m\u001b[0;34m:\u001b[0m\u001b[0;36m0\u001b[0m\u001b[0;34m]\u001b[0m\u001b[0;34m,\u001b[0m \u001b[0mfilename\u001b[0m\u001b[0;34m,\u001b[0m \u001b[0;34m{\u001b[0m\u001b[0;34m}\u001b[0m\u001b[0;34m)\u001b[0m\u001b[0;34m\u001b[0m\u001b[0;34m\u001b[0m\u001b[0m\n\u001b[0m\u001b[1;32m    396\u001b[0m     \u001b[0;32mreturn\u001b[0m \u001b[0mabspath\u001b[0m\u001b[0;34m(\u001b[0m\u001b[0mpath\u001b[0m\u001b[0;34m)\u001b[0m\u001b[0;34m\u001b[0m\u001b[0;34m\u001b[0m\u001b[0m\n\u001b[1;32m    397\u001b[0m \u001b[0;34m\u001b[0m\u001b[0m\n",
      "\u001b[0;32m~/miniconda3/envs/chronos-dev/lib/python3.7/posixpath.py\u001b[0m in \u001b[0;36m_joinrealpath\u001b[0;34m(path, rest, seen)\u001b[0m\n\u001b[1;32m    427\u001b[0m             \u001b[0;32mcontinue\u001b[0m\u001b[0;34m\u001b[0m\u001b[0;34m\u001b[0m\u001b[0m\n\u001b[1;32m    428\u001b[0m         \u001b[0mnewpath\u001b[0m \u001b[0;34m=\u001b[0m \u001b[0mjoin\u001b[0m\u001b[0;34m(\u001b[0m\u001b[0mpath\u001b[0m\u001b[0;34m,\u001b[0m \u001b[0mname\u001b[0m\u001b[0;34m)\u001b[0m\u001b[0;34m\u001b[0m\u001b[0;34m\u001b[0m\u001b[0m\n\u001b[0;32m--> 429\u001b[0;31m         \u001b[0;32mif\u001b[0m \u001b[0;32mnot\u001b[0m \u001b[0mislink\u001b[0m\u001b[0;34m(\u001b[0m\u001b[0mnewpath\u001b[0m\u001b[0;34m)\u001b[0m\u001b[0;34m:\u001b[0m\u001b[0;34m\u001b[0m\u001b[0;34m\u001b[0m\u001b[0m\n\u001b[0m\u001b[1;32m    430\u001b[0m             \u001b[0mpath\u001b[0m \u001b[0;34m=\u001b[0m \u001b[0mnewpath\u001b[0m\u001b[0;34m\u001b[0m\u001b[0;34m\u001b[0m\u001b[0m\n\u001b[1;32m    431\u001b[0m             \u001b[0;32mcontinue\u001b[0m\u001b[0;34m\u001b[0m\u001b[0;34m\u001b[0m\u001b[0m\n",
      "\u001b[0;32m~/miniconda3/envs/chronos-dev/lib/python3.7/posixpath.py\u001b[0m in \u001b[0;36mislink\u001b[0;34m(path)\u001b[0m\n\u001b[1;32m    169\u001b[0m     \u001b[0;34m\"\"\"Test whether a path is a symbolic link\"\"\"\u001b[0m\u001b[0;34m\u001b[0m\u001b[0;34m\u001b[0m\u001b[0m\n\u001b[1;32m    170\u001b[0m     \u001b[0;32mtry\u001b[0m\u001b[0;34m:\u001b[0m\u001b[0;34m\u001b[0m\u001b[0;34m\u001b[0m\u001b[0m\n\u001b[0;32m--> 171\u001b[0;31m         \u001b[0mst\u001b[0m \u001b[0;34m=\u001b[0m \u001b[0mos\u001b[0m\u001b[0;34m.\u001b[0m\u001b[0mlstat\u001b[0m\u001b[0;34m(\u001b[0m\u001b[0mpath\u001b[0m\u001b[0;34m)\u001b[0m\u001b[0;34m\u001b[0m\u001b[0;34m\u001b[0m\u001b[0m\n\u001b[0m\u001b[1;32m    172\u001b[0m     \u001b[0;32mexcept\u001b[0m \u001b[0;34m(\u001b[0m\u001b[0mOSError\u001b[0m\u001b[0;34m,\u001b[0m \u001b[0mAttributeError\u001b[0m\u001b[0;34m)\u001b[0m\u001b[0;34m:\u001b[0m\u001b[0;34m\u001b[0m\u001b[0;34m\u001b[0m\u001b[0m\n\u001b[1;32m    173\u001b[0m         \u001b[0;32mreturn\u001b[0m \u001b[0;32mFalse\u001b[0m\u001b[0;34m\u001b[0m\u001b[0;34m\u001b[0m\u001b[0m\n",
      "\u001b[0;31mKeyboardInterrupt\u001b[0m: "
     ]
    },
    {
     "name": "stderr",
     "output_type": "stream",
     "text": [
      "Exception ignored in: '_pydevd_frame_eval.pydevd_frame_evaluator.get_bytecode_while_frame_eval_38'\n",
      "Traceback (most recent call last):\n",
      "  File \"_pydevd_frame_eval/pydevd_frame_evaluator.pyx\", line 258, in _pydevd_frame_eval.pydevd_frame_evaluator.get_func_code_info\n",
      "  File \"/home/zhaojieh/miniconda3/envs/chronos-dev/lib/python3.7/site-packages/debugpy/_vendored/pydevd/pydevd_file_utils.py\", line 885, in get_abs_path_real_path_and_base_from_frame\n",
      "    ret = get_abs_path_real_path_and_base_from_file(f)\n",
      "  File \"/home/zhaojieh/miniconda3/envs/chronos-dev/lib/python3.7/site-packages/debugpy/_vendored/pydevd/pydevd_file_utils.py\", line 852, in get_abs_path_real_path_and_base_from_file\n",
      "    abs_path, canonical_normalized_filename = _abs_and_canonical_path(f)\n",
      "  File \"/home/zhaojieh/miniconda3/envs/chronos-dev/lib/python3.7/site-packages/debugpy/_vendored/pydevd/pydevd_file_utils.py\", line 411, in _abs_and_canonical_path\n",
      "    real_path = _apply_func_and_normalize_case(filename, os_path_real_path, isabs, normalize)\n",
      "  File \"/home/zhaojieh/miniconda3/envs/chronos-dev/lib/python3.7/site-packages/debugpy/_vendored/pydevd/pydevd_file_utils.py\", line 438, in _apply_func_and_normalize_case\n",
      "    r = func(filename)\n",
      "  File \"/home/zhaojieh/miniconda3/envs/chronos-dev/lib/python3.7/posixpath.py\", line 395, in realpath\n",
      "    path, ok = _joinrealpath(filename[:0], filename, {})\n",
      "  File \"/home/zhaojieh/miniconda3/envs/chronos-dev/lib/python3.7/posixpath.py\", line 429, in _joinrealpath\n",
      "    if not islink(newpath):\n",
      "  File \"/home/zhaojieh/miniconda3/envs/chronos-dev/lib/python3.7/posixpath.py\", line 171, in islink\n",
      "    st = os.lstat(path)\n",
      "KeyboardInterrupt: \n"
     ]
    },
    {
     "ename": "SystemError",
     "evalue": "<class 'pandas.core.groupby.ops.BaseGrouper'> returned NULL without setting an error",
     "output_type": "error",
     "traceback": [
      "\u001b[0;31m---------------------------------------------------------------------------\u001b[0m",
      "\u001b[0;31mSystemError\u001b[0m                               Traceback (most recent call last)",
      "\u001b[0;32m/tmp/ipykernel_32322/1918008347.py\u001b[0m in \u001b[0;36m<module>\u001b[0;34m\u001b[0m\n\u001b[1;32m      1\u001b[0m \u001b[0;32mimport\u001b[0m \u001b[0mtorch\u001b[0m\u001b[0;34m\u001b[0m\u001b[0;34m\u001b[0m\u001b[0m\n\u001b[0;32m----> 2\u001b[0;31m \u001b[0mtsdata\u001b[0m\u001b[0;34m,\u001b[0m \u001b[0mdata\u001b[0m \u001b[0;34m=\u001b[0m \u001b[0mpreprocess_during_deployment\u001b[0m\u001b[0;34m(\u001b[0m\u001b[0mdf\u001b[0m\u001b[0;34m,\u001b[0m \u001b[0mscaler\u001b[0m\u001b[0;34m)\u001b[0m\u001b[0;34m\u001b[0m\u001b[0;34m\u001b[0m\u001b[0m\n\u001b[0m\u001b[1;32m      3\u001b[0m \u001b[0mprint\u001b[0m\u001b[0;34m(\u001b[0m\u001b[0mdata\u001b[0m\u001b[0;34m.\u001b[0m\u001b[0mdtype\u001b[0m\u001b[0;34m)\u001b[0m\u001b[0;34m\u001b[0m\u001b[0;34m\u001b[0m\u001b[0m\n\u001b[1;32m      4\u001b[0m \u001b[0minput_tensor\u001b[0m \u001b[0;34m=\u001b[0m \u001b[0mtorch\u001b[0m\u001b[0;34m.\u001b[0m\u001b[0mfrom_numpy\u001b[0m\u001b[0;34m(\u001b[0m\u001b[0mdata\u001b[0m\u001b[0;34m)\u001b[0m\u001b[0;34m\u001b[0m\u001b[0;34m\u001b[0m\u001b[0m\n\u001b[1;32m      5\u001b[0m \u001b[0mmodule\u001b[0m \u001b[0;34m=\u001b[0m \u001b[0mtorch\u001b[0m\u001b[0;34m.\u001b[0m\u001b[0mjit\u001b[0m\u001b[0;34m.\u001b[0m\u001b[0mload\u001b[0m\u001b[0;34m(\u001b[0m\u001b[0mPath\u001b[0m\u001b[0;34m(\u001b[0m\u001b[0;34m\"forecaster_ts\"\u001b[0m\u001b[0;34m)\u001b[0m \u001b[0;34m/\u001b[0m \u001b[0;34m\"ckpt.pth\"\u001b[0m\u001b[0;34m)\u001b[0m\u001b[0;34m\u001b[0m\u001b[0;34m\u001b[0m\u001b[0m\n",
      "\u001b[0;32m/tmp/ipykernel_32322/1615763190.py\u001b[0m in \u001b[0;36mpreprocess_during_deployment\u001b[0;34m(df, scaler)\u001b[0m\n\u001b[1;32m      7\u001b[0m     \u001b[0mtsdata\u001b[0m\u001b[0;34m.\u001b[0m\u001b[0mgen_dt_feature\u001b[0m\u001b[0;34m(\u001b[0m\u001b[0mfeatures\u001b[0m\u001b[0;34m=\u001b[0m\u001b[0;34m[\u001b[0m\u001b[0;34m\"WEEKDAY\"\u001b[0m\u001b[0;34m,\u001b[0m \u001b[0;34m\"HOUR\"\u001b[0m\u001b[0;34m,\u001b[0m \u001b[0;34m\"MINUTES\"\u001b[0m\u001b[0;34m]\u001b[0m\u001b[0;34m)\u001b[0m\u001b[0;31m\\\u001b[0m\u001b[0;34m\u001b[0m\u001b[0;34m\u001b[0m\u001b[0m\n\u001b[1;32m      8\u001b[0m           \u001b[0;34m.\u001b[0m\u001b[0mscale\u001b[0m\u001b[0;34m(\u001b[0m\u001b[0mscaler\u001b[0m\u001b[0;34m)\u001b[0m\u001b[0;31m\\\u001b[0m\u001b[0;34m\u001b[0m\u001b[0;34m\u001b[0m\u001b[0m\n\u001b[0;32m----> 9\u001b[0;31m           \u001b[0;34m.\u001b[0m\u001b[0mroll\u001b[0m\u001b[0;34m(\u001b[0m\u001b[0mlookback\u001b[0m\u001b[0;34m=\u001b[0m\u001b[0;36m48\u001b[0m\u001b[0;34m,\u001b[0m \u001b[0mhorizon\u001b[0m\u001b[0;34m=\u001b[0m\u001b[0;36m24\u001b[0m\u001b[0;34m)\u001b[0m\u001b[0;34m\u001b[0m\u001b[0;34m\u001b[0m\u001b[0m\n\u001b[0m\u001b[1;32m     10\u001b[0m     \u001b[0mdata\u001b[0m \u001b[0;34m=\u001b[0m \u001b[0mtsdata\u001b[0m\u001b[0;34m.\u001b[0m\u001b[0mto_numpy\u001b[0m\u001b[0;34m(\u001b[0m\u001b[0;34m)\u001b[0m\u001b[0;34m\u001b[0m\u001b[0;34m\u001b[0m\u001b[0m\n\u001b[1;32m     11\u001b[0m     \u001b[0;32mreturn\u001b[0m \u001b[0mtsdata\u001b[0m\u001b[0;34m,\u001b[0m \u001b[0mdata\u001b[0m\u001b[0;34m\u001b[0m\u001b[0;34m\u001b[0m\u001b[0m\n",
      "\u001b[0;32m~/BigDL-hzj/python/chronos/src/bigdl/chronos/data/tsdataset.py\u001b[0m in \u001b[0;36mroll\u001b[0;34m(self, horizon, lookback, feature_col, target_col, id_sensitive, time_enc, label_len, is_predict)\u001b[0m\n\u001b[1;32m    749\u001b[0m         \u001b[0;32mif\u001b[0m \u001b[0mself\u001b[0m\u001b[0;34m.\u001b[0m\u001b[0mlookback\u001b[0m \u001b[0;34m==\u001b[0m \u001b[0;34m'auto'\u001b[0m\u001b[0;34m:\u001b[0m\u001b[0;34m\u001b[0m\u001b[0;34m\u001b[0m\u001b[0m\n\u001b[1;32m    750\u001b[0m             \u001b[0mself\u001b[0m\u001b[0;34m.\u001b[0m\u001b[0mlookback\u001b[0m \u001b[0;34m=\u001b[0m \u001b[0mself\u001b[0m\u001b[0;34m.\u001b[0m\u001b[0mget_cycle_length\u001b[0m\u001b[0;34m(\u001b[0m\u001b[0;34m'mode'\u001b[0m\u001b[0;34m,\u001b[0m \u001b[0mtop_k\u001b[0m\u001b[0;34m=\u001b[0m\u001b[0;36m3\u001b[0m\u001b[0;34m)\u001b[0m\u001b[0;34m\u001b[0m\u001b[0;34m\u001b[0m\u001b[0m\n\u001b[0;32m--> 751\u001b[0;31m         \u001b[0mgroups\u001b[0m \u001b[0;34m=\u001b[0m \u001b[0mself\u001b[0m\u001b[0;34m.\u001b[0m\u001b[0mdf\u001b[0m\u001b[0;34m.\u001b[0m\u001b[0mgroupby\u001b[0m\u001b[0;34m(\u001b[0m\u001b[0;34m[\u001b[0m\u001b[0mself\u001b[0m\u001b[0;34m.\u001b[0m\u001b[0mid_col\u001b[0m\u001b[0;34m]\u001b[0m\u001b[0;34m)\u001b[0m\u001b[0;34m\u001b[0m\u001b[0;34m\u001b[0m\u001b[0m\n\u001b[0m\u001b[1;32m    752\u001b[0m         \u001b[0mrolling_result\u001b[0m \u001b[0;34m=\u001b[0m \u001b[0;34m[\u001b[0m\u001b[0;34m]\u001b[0m\u001b[0;34m\u001b[0m\u001b[0;34m\u001b[0m\u001b[0m\n\u001b[1;32m    753\u001b[0m         \u001b[0;32mfor\u001b[0m \u001b[0m_\u001b[0m\u001b[0;34m,\u001b[0m \u001b[0mgroup\u001b[0m \u001b[0;32min\u001b[0m \u001b[0mgroups\u001b[0m\u001b[0;34m:\u001b[0m\u001b[0;34m\u001b[0m\u001b[0;34m\u001b[0m\u001b[0m\n",
      "\u001b[0;32m~/miniconda3/envs/chronos-dev/lib/python3.7/site-packages/pandas/core/frame.py\u001b[0m in \u001b[0;36mgroupby\u001b[0;34m(self, by, axis, level, as_index, sort, group_keys, squeeze, observed, dropna)\u001b[0m\n\u001b[1;32m   6523\u001b[0m             \u001b[0msqueeze\u001b[0m\u001b[0;34m=\u001b[0m\u001b[0msqueeze\u001b[0m\u001b[0;34m,\u001b[0m\u001b[0;34m\u001b[0m\u001b[0;34m\u001b[0m\u001b[0m\n\u001b[1;32m   6524\u001b[0m             \u001b[0mobserved\u001b[0m\u001b[0;34m=\u001b[0m\u001b[0mobserved\u001b[0m\u001b[0;34m,\u001b[0m\u001b[0;34m\u001b[0m\u001b[0;34m\u001b[0m\u001b[0m\n\u001b[0;32m-> 6525\u001b[0;31m             \u001b[0mdropna\u001b[0m\u001b[0;34m=\u001b[0m\u001b[0mdropna\u001b[0m\u001b[0;34m,\u001b[0m\u001b[0;34m\u001b[0m\u001b[0;34m\u001b[0m\u001b[0m\n\u001b[0m\u001b[1;32m   6526\u001b[0m         )\n\u001b[1;32m   6527\u001b[0m \u001b[0;34m\u001b[0m\u001b[0m\n",
      "\u001b[0;32m~/miniconda3/envs/chronos-dev/lib/python3.7/site-packages/pandas/core/groupby/groupby.py\u001b[0m in \u001b[0;36m__init__\u001b[0;34m(self, obj, keys, axis, level, grouper, exclusions, selection, as_index, sort, group_keys, squeeze, observed, mutated, dropna)\u001b[0m\n\u001b[1;32m    531\u001b[0m                 \u001b[0mobserved\u001b[0m\u001b[0;34m=\u001b[0m\u001b[0mobserved\u001b[0m\u001b[0;34m,\u001b[0m\u001b[0;34m\u001b[0m\u001b[0;34m\u001b[0m\u001b[0m\n\u001b[1;32m    532\u001b[0m                 \u001b[0mmutated\u001b[0m\u001b[0;34m=\u001b[0m\u001b[0mself\u001b[0m\u001b[0;34m.\u001b[0m\u001b[0mmutated\u001b[0m\u001b[0;34m,\u001b[0m\u001b[0;34m\u001b[0m\u001b[0;34m\u001b[0m\u001b[0m\n\u001b[0;32m--> 533\u001b[0;31m                 \u001b[0mdropna\u001b[0m\u001b[0;34m=\u001b[0m\u001b[0mself\u001b[0m\u001b[0;34m.\u001b[0m\u001b[0mdropna\u001b[0m\u001b[0;34m,\u001b[0m\u001b[0;34m\u001b[0m\u001b[0;34m\u001b[0m\u001b[0m\n\u001b[0m\u001b[1;32m    534\u001b[0m             )\n\u001b[1;32m    535\u001b[0m \u001b[0;34m\u001b[0m\u001b[0m\n",
      "\u001b[0;32m~/miniconda3/envs/chronos-dev/lib/python3.7/site-packages/pandas/core/groupby/grouper.py\u001b[0m in \u001b[0;36mget_grouper\u001b[0;34m(obj, key, axis, level, sort, observed, mutated, validate, dropna)\u001b[0m\n\u001b[1;32m    824\u001b[0m \u001b[0;34m\u001b[0m\u001b[0m\n\u001b[1;32m    825\u001b[0m     \u001b[0;31m# create the internals grouper\u001b[0m\u001b[0;34m\u001b[0m\u001b[0;34m\u001b[0m\u001b[0;34m\u001b[0m\u001b[0m\n\u001b[0;32m--> 826\u001b[0;31m     \u001b[0mgrouper\u001b[0m \u001b[0;34m=\u001b[0m \u001b[0mops\u001b[0m\u001b[0;34m.\u001b[0m\u001b[0mBaseGrouper\u001b[0m\u001b[0;34m(\u001b[0m\u001b[0mgroup_axis\u001b[0m\u001b[0;34m,\u001b[0m \u001b[0mgroupings\u001b[0m\u001b[0;34m,\u001b[0m \u001b[0msort\u001b[0m\u001b[0;34m=\u001b[0m\u001b[0msort\u001b[0m\u001b[0;34m,\u001b[0m \u001b[0mmutated\u001b[0m\u001b[0;34m=\u001b[0m\u001b[0mmutated\u001b[0m\u001b[0;34m)\u001b[0m\u001b[0;34m\u001b[0m\u001b[0;34m\u001b[0m\u001b[0m\n\u001b[0m\u001b[1;32m    827\u001b[0m     \u001b[0;32mreturn\u001b[0m \u001b[0mgrouper\u001b[0m\u001b[0;34m,\u001b[0m \u001b[0mexclusions\u001b[0m\u001b[0;34m,\u001b[0m \u001b[0mobj\u001b[0m\u001b[0;34m\u001b[0m\u001b[0;34m\u001b[0m\u001b[0m\n\u001b[1;32m    828\u001b[0m \u001b[0;34m\u001b[0m\u001b[0m\n",
      "\u001b[0;31mSystemError\u001b[0m: <class 'pandas.core.groupby.ops.BaseGrouper'> returned NULL without setting an error"
     ]
    }
   ],
   "source": [
    "import torch\n",
    "tsdata, data = preprocess_during_deployment(df, scaler)\n",
    "print(data.dtype)\n",
    "input_tensor = torch.from_numpy(data)\n",
    "module = torch.jit.load(Path(\"forecaster_ts\") / \"ckpt.pth\")\n",
    "data = module.forward(input_tensor)\n",
    "processed_data_2 = postprocess_during_deployment(data.numpy(), tsdata)"
   ]
  },
  {
   "cell_type": "code",
   "execution_count": 13,
   "metadata": {},
   "outputs": [],
   "source": [
    "from numpy.testing import assert_array_almost_equal\n",
    "\n",
    "assert_array_almost_equal(processed_data_1, processed_data_2)"
   ]
  },
  {
   "cell_type": "code",
   "execution_count": 14,
   "metadata": {},
   "outputs": [
    {
     "name": "stdout",
     "output_type": "stream",
     "text": [
      "7\n"
     ]
    },
    {
     "ename": "RuntimeError",
     "evalue": "The following operation failed in the TorchScript interpreter.\nTraceback of TorchScript, serialized code (most recent call last):\n  File \"code/__torch__/bigdl/chronos/forecaster/utils.py\", line 12, in forward\n    data: Tensor) -> Tensor:\n    preprocess = self.preprocess\n    preprocess_output = (preprocess).forward(data, )\n                         ~~~~~~~~~~~~~~~~~~~ <--- HERE\n    inference = self.inference\n    inference_output = (inference).forward(preprocess_output, )\n  File \"code/__torch__/bigdl/chronos/data/utils/export_torchscript.py\", line 20, in forward\n    _0 = torch.eq(operation, \"preprocessing\")\n    if _0:\n      _2 = (self).export_preprocessing(data, )\n            ~~~~~~~~~~~~~~~~~~~~~~~~~~ <--- HERE\n      _1 = _2\n    else:\n  File \"code/__torch__/bigdl/chronos/data/utils/export_torchscript.py\", line 37, in export_preprocessing\n    _9 = torch.slice(data)\n    _10 = annotate(List[Optional[Tensor]], [None, _8])\n    _11 = torch.index_put_(_9, _10, _7)\n          ~~~~~~~~~~~~~~~~ <--- HERE\n    lookback = self.lookback\n    id_index = self.id_index\n\nTraceback of TorchScript, original code (most recent call last):\n  File \"/home/zhaojieh/BigDL-hzj/python/chronos/src/bigdl/chronos/forecaster/utils.py\", line 193, in forward\n    def forward(self, data):\n        preprocess_output = self.preprocess.forward(data)\n                            ~~~~~~~~~~~~~~~~~~~~~~~ <--- HERE\n        inference_output = self.inference.forward(preprocess_output)\n        postprocess_output = self.postprocess(inference_output)\n  File \"/home/zhaojieh/BigDL-hzj/python/chronos/src/bigdl/chronos/data/utils/export_torchscript.py\", line 99, in forward\n    def forward(self, data):\n        if self.operation == \"preprocessing\":\n            return self.export_preprocessing(data)\n                   ~~~~~~~~~~~~~~~~~~~~~~~~~ <--- HERE\n        else:\n            return self.export_postprocessing(data)\n  File \"/home/zhaojieh/BigDL-hzj/python/chronos/src/bigdl/chronos/data/utils/export_torchscript.py\", line 90, in export_preprocessing\n    def export_preprocessing(self, data):\n        data[:, self.target_feature_index] = self.scale(data[:, self.target_feature_index])\n        ~~~~~~~~~~~~~~~~~~~~~~~~~~~~~~~~~~~~~~~~~~~~~~~~~~~~~~~~~~~~~~~~~~~~~~~~~~~~~~~~~~ <--- HERE\n        data_roll = self.roll(data, self.lookback, self.id_index, self.target_feature_index)\n        return data_roll\nRuntimeError: Index put requires the source and destination dtypes match, got Float for the destination and Double for the source.\n",
     "output_type": "error",
     "traceback": [
      "\u001b[0;31m---------------------------------------------------------------------------\u001b[0m",
      "\u001b[0;31mRuntimeError\u001b[0m                              Traceback (most recent call last)",
      "\u001b[0;32m/tmp/ipykernel_32322/3533195029.py\u001b[0m in \u001b[0;36m<module>\u001b[0;34m\u001b[0m\n\u001b[1;32m     18\u001b[0m \u001b[0mjit_module\u001b[0m \u001b[0;34m=\u001b[0m \u001b[0mtorch\u001b[0m\u001b[0;34m.\u001b[0m\u001b[0mjit\u001b[0m\u001b[0;34m.\u001b[0m\u001b[0mload\u001b[0m\u001b[0;34m(\u001b[0m\u001b[0mjit_path\u001b[0m\u001b[0;34m)\u001b[0m\u001b[0;34m\u001b[0m\u001b[0;34m\u001b[0m\u001b[0m\n\u001b[1;32m     19\u001b[0m \u001b[0;34m\u001b[0m\u001b[0m\n\u001b[0;32m---> 20\u001b[0;31m \u001b[0moutput\u001b[0m \u001b[0;34m=\u001b[0m \u001b[0mjit_module\u001b[0m\u001b[0;34m.\u001b[0m\u001b[0mforward\u001b[0m\u001b[0;34m(\u001b[0m\u001b[0minput_tensor\u001b[0m\u001b[0;34m)\u001b[0m\u001b[0;34m\u001b[0m\u001b[0;34m\u001b[0m\u001b[0m\n\u001b[0m",
      "\u001b[0;31mRuntimeError\u001b[0m: The following operation failed in the TorchScript interpreter.\nTraceback of TorchScript, serialized code (most recent call last):\n  File \"code/__torch__/bigdl/chronos/forecaster/utils.py\", line 12, in forward\n    data: Tensor) -> Tensor:\n    preprocess = self.preprocess\n    preprocess_output = (preprocess).forward(data, )\n                         ~~~~~~~~~~~~~~~~~~~ <--- HERE\n    inference = self.inference\n    inference_output = (inference).forward(preprocess_output, )\n  File \"code/__torch__/bigdl/chronos/data/utils/export_torchscript.py\", line 20, in forward\n    _0 = torch.eq(operation, \"preprocessing\")\n    if _0:\n      _2 = (self).export_preprocessing(data, )\n            ~~~~~~~~~~~~~~~~~~~~~~~~~~ <--- HERE\n      _1 = _2\n    else:\n  File \"code/__torch__/bigdl/chronos/data/utils/export_torchscript.py\", line 37, in export_preprocessing\n    _9 = torch.slice(data)\n    _10 = annotate(List[Optional[Tensor]], [None, _8])\n    _11 = torch.index_put_(_9, _10, _7)\n          ~~~~~~~~~~~~~~~~ <--- HERE\n    lookback = self.lookback\n    id_index = self.id_index\n\nTraceback of TorchScript, original code (most recent call last):\n  File \"/home/zhaojieh/BigDL-hzj/python/chronos/src/bigdl/chronos/forecaster/utils.py\", line 193, in forward\n    def forward(self, data):\n        preprocess_output = self.preprocess.forward(data)\n                            ~~~~~~~~~~~~~~~~~~~~~~~ <--- HERE\n        inference_output = self.inference.forward(preprocess_output)\n        postprocess_output = self.postprocess(inference_output)\n  File \"/home/zhaojieh/BigDL-hzj/python/chronos/src/bigdl/chronos/data/utils/export_torchscript.py\", line 99, in forward\n    def forward(self, data):\n        if self.operation == \"preprocessing\":\n            return self.export_preprocessing(data)\n                   ~~~~~~~~~~~~~~~~~~~~~~~~~ <--- HERE\n        else:\n            return self.export_postprocessing(data)\n  File \"/home/zhaojieh/BigDL-hzj/python/chronos/src/bigdl/chronos/data/utils/export_torchscript.py\", line 90, in export_preprocessing\n    def export_preprocessing(self, data):\n        data[:, self.target_feature_index] = self.scale(data[:, self.target_feature_index])\n        ~~~~~~~~~~~~~~~~~~~~~~~~~~~~~~~~~~~~~~~~~~~~~~~~~~~~~~~~~~~~~~~~~~~~~~~~~~~~~~~~~~ <--- HERE\n        data_roll = self.roll(data, self.lookback, self.id_index, self.target_feature_index)\n        return data_roll\nRuntimeError: Index put requires the source and destination dtypes match, got Float for the destination and Double for the source.\n"
     ]
    }
   ],
   "source": [
    "import torch\n",
    "import os\n",
    "import numpy as np\n",
    "\n",
    "deployment_df = pd.read_csv(\"inference_data.csv\", parse_dates=[\"timestamp\"])\n",
    "tsdata_test = TSDataset.from_pandas(deployment_df,\n",
    "                                dt_col=\"timestamp\",\n",
    "                                target_col=\"value\",\n",
    "                                repair=False,\n",
    "                                deploy_mode=True)\n",
    "tsdata_test.gen_dt_feature(features=[\"WEEKDAY\", \"HOUR\", \"MINUTES\"])\n",
    "# drop datetime col since it can't be converted to Pytorch tensor\n",
    "tsdata_test.df.drop(columns=tsdata_test.dt_col, inplace=True)\n",
    "tsdata_test.df[\"id\"] = np.array([0] * len(tsdata_test.df))\n",
    "input_tensor = torch.from_numpy(tsdata_test.df.values).type(torch.float64)\n",
    "\n",
    "jit_path = os.path.join(\"forecaster\", \"forecaster_pipeline.pt\")\n",
    "jit_module = torch.jit.load(jit_path)\n",
    "\n",
    "output = jit_module.forward(input_tensor)"
   ]
  },
  {
   "cell_type": "code",
   "execution_count": 18,
   "metadata": {},
   "outputs": [
    {
     "name": "stdout",
     "output_type": "stream",
     "text": [
      "float64\n"
     ]
    },
    {
     "ename": "NameError",
     "evalue": "name 'output' is not defined",
     "output_type": "error",
     "traceback": [
      "\u001b[0;31m---------------------------------------------------------------------------\u001b[0m",
      "\u001b[0;31mNameError\u001b[0m                                 Traceback (most recent call last)",
      "\u001b[0;32m/tmp/ipykernel_29257/2686937834.py\u001b[0m in \u001b[0;36m<module>\u001b[0;34m\u001b[0m\n\u001b[1;32m      2\u001b[0m \u001b[0;31m# print(output.numpy().dtype)\u001b[0m\u001b[0;34m\u001b[0m\u001b[0;34m\u001b[0m\u001b[0;34m\u001b[0m\u001b[0m\n\u001b[1;32m      3\u001b[0m \u001b[0mprint\u001b[0m\u001b[0;34m(\u001b[0m\u001b[0mprocessed_data_2\u001b[0m\u001b[0;34m.\u001b[0m\u001b[0mdtype\u001b[0m\u001b[0;34m)\u001b[0m\u001b[0;34m\u001b[0m\u001b[0;34m\u001b[0m\u001b[0m\n\u001b[0;32m----> 4\u001b[0;31m \u001b[0massert_array_almost_equal\u001b[0m\u001b[0;34m(\u001b[0m\u001b[0mprocessed_data_2\u001b[0m\u001b[0;34m,\u001b[0m \u001b[0moutput\u001b[0m\u001b[0;34m.\u001b[0m\u001b[0mnumpy\u001b[0m\u001b[0;34m(\u001b[0m\u001b[0;34m)\u001b[0m\u001b[0;34m)\u001b[0m\u001b[0;34m\u001b[0m\u001b[0;34m\u001b[0m\u001b[0m\n\u001b[0m",
      "\u001b[0;31mNameError\u001b[0m: name 'output' is not defined"
     ]
    }
   ],
   "source": [
    "from numpy.testing import assert_array_almost_equal\n",
    "print(output.numpy().dtype)\n",
    "print(processed_data_2.dtype)\n",
    "assert_array_almost_equal(processed_data_2, output.numpy())"
   ]
  },
  {
   "cell_type": "code",
   "execution_count": 19,
   "metadata": {},
   "outputs": [
    {
     "name": "stdout",
     "output_type": "stream",
     "text": [
      "\n",
      "{\n",
      "\t\"name\": \"RuntimeError\",\n",
      "\t\"message\": \"The following operation failed in the TorchScript interpreter.\n",
      "Traceback of TorchScript, serialized code (most recent call last):\n",
      "  File \"code/__torch__/bigdl/chronos/forecaster/utils.py\", line 14, in forward\n",
      "    preprocess_output = (preprocess).forward(data, )\n",
      "    inference = self.inference\n",
      "    inference_output = (inference).forward(preprocess_output, )\n",
      "                        ~~~~~~~~~~~~~~~~~~ <--- HERE\n",
      "    postprocess = self.postprocess\n",
      "    postprocess_output = (postprocess).forward(inference_output, )\n",
      "  File \"code/__torch__/bigdl/nano/pytorch/lightning/___torch_mangle_88.py\", line 11, in forward\n",
      "    x0 = torch.sub(x, seq_last)\n",
      "    input = torch.permute(x0, [0, 2, 1])\n",
      "    input0 = torch._convolution(input, CONSTANTS.c0, CONSTANTS.c1, [1], [2], [1], False, [0], 1, False, False, True, True)\n",
      "             ~~~~~~~~~~~~~~~~~~ <--- HERE\n",
      "    input1 = torch.relu(input0)\n",
      "    _2 = torch.slice(input1, 0, 0, 9223372036854775807)\n",
      "\n",
      "Traceback of TorchScript, original code (most recent call last):\n",
      "  File \"/home/zhaojieh/BigDL-hzj/python/chronos/src/bigdl/chronos/forecaster/utils.py\", line 194, in forward\n",
      "    def forward(self, data):\n",
      "        preprocess_output = self.preprocess.forward(data)\n",
      "        inference_output = self.inference.forward(preprocess_output)\n",
      "                           ~~~~~~~~~~~~~~~~~~~~~~ <--- HERE\n",
      "        postprocess_output = self.postprocess(inference_output)\n",
      "        return postprocess_output\n",
      "/home/zhaojieh/miniconda3/envs/chronos-dev/lib/python3.7/site-packages/torch/nn/modules/conv.py(304): _conv_forward\n",
      "/home/zhaojieh/miniconda3/envs/chronos-dev/lib/python3.7/site-packages/torch/nn/modules/conv.py(307): forward\n",
      "/home/zhaojieh/miniconda3/envs/chronos-dev/lib/python3.7/site-packages/torch/nn/modules/module.py(1118): _slow_forward\n",
      "/home/zhaojieh/miniconda3/envs/chronos-dev/lib/python3.7/site-packages/torch/nn/modules/module.py(1130): _call_impl\n",
      "/home/zhaojieh/miniconda3/envs/chronos-dev/lib/python3.7/site-packages/torch/nn/modules/container.py(139): forward\n",
      "/home/zhaojieh/miniconda3/envs/chronos-dev/lib/python3.7/site-packages/torch/nn/modules/module.py(1118): _slow_forward\n",
      "/home/zhaojieh/miniconda3/envs/chronos-dev/lib/python3.7/site-packages/torch/nn/modules/module.py(1130): _call_impl\n",
      "/home/zhaojieh/BigDL-hzj/python/chronos/src/bigdl/chronos/model/tcn.py(100): forward\n",
      "/home/zhaojieh/miniconda3/envs/chronos-dev/lib/python3.7/site-packages/torch/nn/modules/module.py(1118): _slow_forward\n",
      "/home/zhaojieh/miniconda3/envs/chronos-dev/lib/python3.7/site-packages/torch/nn/modules/module.py(1130): _call_impl\n",
      "/home/zhaojieh/miniconda3/envs/chronos-dev/lib/python3.7/site-packages/torch/nn/modules/container.py(139): forward\n",
      "/home/zhaojieh/miniconda3/envs/chronos-dev/lib/python3.7/site-packages/torch/nn/modules/module.py(1118): _slow_forward\n",
      "/home/zhaojieh/miniconda3/envs/chronos-dev/lib/python3.7/site-packages/torch/nn/modules/module.py(1130): _call_impl\n",
      "/home/zhaojieh/BigDL-hzj/python/chronos/src/bigdl/chronos/model/tcn.py(142): forward\n",
      "/home/zhaojieh/miniconda3/envs/chronos-dev/lib/python3.7/site-packages/torch/nn/modules/module.py(1118): _slow_forward\n",
      "/home/zhaojieh/miniconda3/envs/chronos-dev/lib/python3.7/site-packages/torch/nn/modules/module.py(1130): _call_impl\n",
      "/home/zhaojieh/BigDL-hzj/python/chronos/src/bigdl/chronos/pytorch/model_wrapper/normalization.py(35): forward\n",
      "/home/zhaojieh/miniconda3/envs/chronos-dev/lib/python3.7/site-packages/torch/nn/modules/module.py(1118): _slow_forward\n",
      "/home/zhaojieh/miniconda3/envs/chronos-dev/lib/python3.7/site-packages/torch/nn/modules/module.py(1130): _call_impl\n",
      "/home/zhaojieh/BigDL-hzj/python/nano/src/bigdl/nano/pytorch/lightning.py(99): forward\n",
      "/home/zhaojieh/miniconda3/envs/chronos-dev/lib/python3.7/site-packages/torch/nn/modules/module.py(1118): _slow_forward\n",
      "/home/zhaojieh/miniconda3/envs/chronos-dev/lib/python3.7/site-packages/torch/nn/modules/module.py(1130): _call_impl\n",
      "/home/zhaojieh/miniconda3/envs/chronos-dev/lib/python3.7/site-packages/torch/jit/_trace.py(974): trace_module\n",
      "/home/zhaojieh/miniconda3/envs/chronos-dev/lib/python3.7/site-packages/torch/jit/_trace.py(759): trace\n",
      "/home/zhaojieh/BigDL-hzj/python/nano/src/bigdl/nano/deps/ipex/ipex_inference_model.py(112): __init__\n",
      "/home/zhaojieh/BigDL-hzj/python/nano/src/bigdl/nano/deps/ipex/ipex_api.py(62): PytorchIPEXJITModel\n",
      "/home/zhaojieh/BigDL-hzj/python/nano/src/bigdl/nano/pytorch/inference/optimizer.py(918): trace\n",
      "/home/zhaojieh/BigDL-hzj/python/chronos/src/bigdl/chronos/forecaster/base_forecaster.py(1576): build_jit\n",
      "/home/zhaojieh/BigDL-hzj/python/chronos/src/bigdl/chronos/forecaster/base_forecaster.py(1653): export_torchscript_file\n",
      "/home/zhaojieh/BigDL-hzj/python/chronos/src/bigdl/chronos/forecaster/base_forecaster.py(1662): export_torchscript_module\n",
      "/tmp/ipykernel_28184/2975897614.py(4): <module>\n",
      "/home/zhaojieh/miniconda3/envs/chronos-dev/lib/python3.7/site-packages/IPython/core/interactiveshell.py(3553): run_code\n",
      "/home/zhaojieh/miniconda3/envs/chronos-dev/lib/python3.7/site-packages/IPython/core/interactiveshell.py(3473): run_ast_nodes\n",
      "/home/zhaojieh/miniconda3/envs/chronos-dev/lib/python3.7/site-packages/IPython/core/interactiveshell.py(3258): run_cell_async\n",
      "/home/zhaojieh/miniconda3/envs/chronos-dev/lib/python3.7/site-packages/IPython/core/async_helpers.py(78): _pseudo_sync_runner\n",
      "/home/zhaojieh/miniconda3/envs/chronos-dev/lib/python3.7/site-packages/IPython/core/interactiveshell.py(3030): _run_cell\n",
      "/home/zhaojieh/miniconda3/envs/chronos-dev/lib/python3.7/site-packages/IPython/core/interactiveshell.py(2976): run_cell\n",
      "/home/zhaojieh/miniconda3/envs/chronos-dev/lib/python3.7/site-packages/ipykernel/zmqshell.py(528): run_cell\n",
      "/home/zhaojieh/miniconda3/envs/chronos-dev/lib/python3.7/site-packages/ipykernel/ipkernel.py(387): do_execute\n",
      "/home/zhaojieh/miniconda3/envs/chronos-dev/lib/python3.7/site-packages/ipykernel/kernelbase.py(730): execute_request\n",
      "/home/zhaojieh/miniconda3/envs/chronos-dev/lib/python3.7/site-packages/ipykernel/kernelbase.py(406): dispatch_shell\n",
      "/home/zhaojieh/miniconda3/envs/chronos-dev/lib/python3.7/site-packages/ipykernel/kernelbase.py(499): process_one\n",
      "/home/zhaojieh/miniconda3/envs/chronos-dev/lib/python3.7/site-packages/ipykernel/kernelbase.py(510): dispatch_queue\n",
      "/home/zhaojieh/miniconda3/envs/chronos-dev/lib/python3.7/asyncio/events.py(88): _run\n",
      "/home/zhaojieh/miniconda3/envs/chronos-dev/lib/python3.7/asyncio/base_events.py(1786): _run_once\n",
      "/home/zhaojieh/miniconda3/envs/chronos-dev/lib/python3.7/asyncio/base_events.py(541): run_forever\n",
      "/home/zhaojieh/miniconda3/envs/chronos-dev/lib/python3.7/site-packages/tornado/platform/asyncio.py(215): start\n",
      "/home/zhaojieh/miniconda3/envs/chronos-dev/lib/python3.7/site-packages/ipykernel/kernelapp.py(712): start\n",
      "/home/zhaojieh/miniconda3/envs/chronos-dev/lib/python3.7/site-packages/traitlets/config/application.py(982): launch_instance\n",
      "/home/zhaojieh/miniconda3/envs/chronos-dev/lib/python3.7/site-packages/ipykernel_launcher.py(17): <module>\n",
      "/home/zhaojieh/miniconda3/envs/chronos-dev/lib/python3.7/runpy.py(85): _run_code\n",
      "/home/zhaojieh/miniconda3/envs/chronos-dev/lib/python3.7/runpy.py(193): _run_module_as_main\n",
      "RuntimeError: expected scalar type Double but found Float\n",
      "\",\n",
      "\t\"stack\": \"\u001b[0;31m---------------------------------------------------------------------------\u001b[0m\n",
      "\u001b[0;31mRuntimeError\u001b[0m                              Traceback (most recent call last)\n",
      "\u001b[0;32m/tmp/ipykernel_28184/1269694426.py\u001b[0m in \u001b[0;36m<module>\u001b[0;34m\u001b[0m\n",
      "\u001b[1;32m     18\u001b[0m \u001b[0mjit_module\u001b[0m \u001b[0;34m=\u001b[0m \u001b[0mtorch\u001b[0m\u001b[0;34m.\u001b[0m\u001b[0mjit\u001b[0m\u001b[0;34m.\u001b[0m\u001b[0mload\u001b[0m\u001b[0;34m(\u001b[0m\u001b[0mjit_path\u001b[0m\u001b[0;34m)\u001b[0m\u001b[0;34m\u001b[0m\u001b[0;34m\u001b[0m\u001b[0m\n",
      "\u001b[1;32m     19\u001b[0m \u001b[0;34m\u001b[0m\u001b[0m\n",
      "\u001b[0;32m---> 20\u001b[0;31m \u001b[0moutput\u001b[0m \u001b[0;34m=\u001b[0m \u001b[0mjit_module\u001b[0m\u001b[0;34m.\u001b[0m\u001b[0mforward\u001b[0m\u001b[0;34m(\u001b[0m\u001b[0minput_tensor\u001b[0m\u001b[0;34m)\u001b[0m\u001b[0;34m\u001b[0m\u001b[0;34m\u001b[0m\u001b[0m\n",
      "\u001b[0m\n",
      "\u001b[0;31mRuntimeError\u001b[0m: The following operation failed in the TorchScript interpreter.\n",
      "Traceback of TorchScript, serialized code (most recent call last):\n",
      "  File \"code/__torch__/bigdl/chronos/forecaster/utils.py\", line 14, in forward\n",
      "    preprocess_output = (preprocess).forward(data, )\n",
      "    inference = self.inference\n",
      "    inference_output = (inference).forward(preprocess_output, )\n",
      "                        ~~~~~~~~~~~~~~~~~~ <--- HERE\n",
      "    postprocess = self.postprocess\n",
      "    postprocess_output = (postprocess).forward(inference_output, )\n",
      "  File \"code/__torch__/bigdl/nano/pytorch/lightning/___torch_mangle_88.py\", line 11, in forward\n",
      "    x0 = torch.sub(x, seq_last)\n",
      "    input = torch.permute(x0, [0, 2, 1])\n",
      "    input0 = torch._convolution(input, CONSTANTS.c0, CONSTANTS.c1, [1], [2], [1], False, [0], 1, False, False, True, True)\n",
      "             ~~~~~~~~~~~~~~~~~~ <--- HERE\n",
      "    input1 = torch.relu(input0)\n",
      "    _2 = torch.slice(input1, 0, 0, 9223372036854775807)\n",
      "\n",
      "Traceback of TorchScript, original code (most recent call last):\n",
      "  File \"/home/zhaojieh/BigDL-hzj/python/chronos/src/bigdl/chronos/forecaster/utils.py\", line 194, in forward\n",
      "    def forward(self, data):\n",
      "        preprocess_output = self.preprocess.forward(data)\n",
      "        inference_output = self.inference.forward(preprocess_output)\n",
      "                           ~~~~~~~~~~~~~~~~~~~~~~ <--- HERE\n",
      "        postprocess_output = self.postprocess(inference_output)\n",
      "        return postprocess_output\n",
      "/home/zhaojieh/miniconda3/envs/chronos-dev/lib/python3.7/site-packages/torch/nn/modules/conv.py(304): _conv_forward\n",
      "/home/zhaojieh/miniconda3/envs/chronos-dev/lib/python3.7/site-packages/torch/nn/modules/conv.py(307): forward\n",
      "/home/zhaojieh/miniconda3/envs/chronos-dev/lib/python3.7/site-packages/torch/nn/modules/module.py(1118): _slow_forward\n",
      "/home/zhaojieh/miniconda3/envs/chronos-dev/lib/python3.7/site-packages/torch/nn/modules/module.py(1130): _call_impl\n",
      "/home/zhaojieh/miniconda3/envs/chronos-dev/lib/python3.7/site-packages/torch/nn/modules/container.py(139): forward\n",
      "/home/zhaojieh/miniconda3/envs/chronos-dev/lib/python3.7/site-packages/torch/nn/modules/module.py(1118): _slow_forward\n",
      "/home/zhaojieh/miniconda3/envs/chronos-dev/lib/python3.7/site-packages/torch/nn/modules/module.py(1130): _call_impl\n",
      "/home/zhaojieh/BigDL-hzj/python/chronos/src/bigdl/chronos/model/tcn.py(100): forward\n",
      "/home/zhaojieh/miniconda3/envs/chronos-dev/lib/python3.7/site-packages/torch/nn/modules/module.py(1118): _slow_forward\n",
      "/home/zhaojieh/miniconda3/envs/chronos-dev/lib/python3.7/site-packages/torch/nn/modules/module.py(1130): _call_impl\n",
      "/home/zhaojieh/miniconda3/envs/chronos-dev/lib/python3.7/site-packages/torch/nn/modules/container.py(139): forward\n",
      "/home/zhaojieh/miniconda3/envs/chronos-dev/lib/python3.7/site-packages/torch/nn/modules/module.py(1118): _slow_forward\n",
      "/home/zhaojieh/miniconda3/envs/chronos-dev/lib/python3.7/site-packages/torch/nn/modules/module.py(1130): _call_impl\n",
      "/home/zhaojieh/BigDL-hzj/python/chronos/src/bigdl/chronos/model/tcn.py(142): forward\n",
      "/home/zhaojieh/miniconda3/envs/chronos-dev/lib/python3.7/site-packages/torch/nn/modules/module.py(1118): _slow_forward\n",
      "/home/zhaojieh/miniconda3/envs/chronos-dev/lib/python3.7/site-packages/torch/nn/modules/module.py(1130): _call_impl\n",
      "/home/zhaojieh/BigDL-hzj/python/chronos/src/bigdl/chronos/pytorch/model_wrapper/normalization.py(35): forward\n",
      "/home/zhaojieh/miniconda3/envs/chronos-dev/lib/python3.7/site-packages/torch/nn/modules/module.py(1118): _slow_forward\n",
      "/home/zhaojieh/miniconda3/envs/chronos-dev/lib/python3.7/site-packages/torch/nn/modules/module.py(1130): _call_impl\n",
      "/home/zhaojieh/BigDL-hzj/python/nano/src/bigdl/nano/pytorch/lightning.py(99): forward\n",
      "/home/zhaojieh/miniconda3/envs/chronos-dev/lib/python3.7/site-packages/torch/nn/modules/module.py(1118): _slow_forward\n",
      "/home/zhaojieh/miniconda3/envs/chronos-dev/lib/python3.7/site-packages/torch/nn/modules/module.py(1130): _call_impl\n",
      "/home/zhaojieh/miniconda3/envs/chronos-dev/lib/python3.7/site-packages/torch/jit/_trace.py(974): trace_module\n",
      "/home/zhaojieh/miniconda3/envs/chronos-dev/lib/python3.7/site-packages/torch/jit/_trace.py(759): trace\n",
      "/home/zhaojieh/BigDL-hzj/python/nano/src/bigdl/nano/deps/ipex/ipex_inference_model.py(112): __init__\n",
      "/home/zhaojieh/BigDL-hzj/python/nano/src/bigdl/nano/deps/ipex/ipex_api.py(62): PytorchIPEXJITModel\n",
      "/home/zhaojieh/BigDL-hzj/python/nano/src/bigdl/nano/pytorch/inference/optimizer.py(918): trace\n",
      "/home/zhaojieh/BigDL-hzj/python/chronos/src/bigdl/chronos/forecaster/base_forecaster.py(1576): build_jit\n",
      "/home/zhaojieh/BigDL-hzj/python/chronos/src/bigdl/chronos/forecaster/base_forecaster.py(1653): export_torchscript_file\n",
      "/home/zhaojieh/BigDL-hzj/python/chronos/src/bigdl/chronos/forecaster/base_forecaster.py(1662): export_torchscript_module\n",
      "/tmp/ipykernel_28184/2975897614.py(4): <module>\n",
      "/home/zhaojieh/miniconda3/envs/chronos-dev/lib/python3.7/site-packages/IPython/core/interactiveshell.py(3553): run_code\n",
      "/home/zhaojieh/miniconda3/envs/chronos-dev/lib/python3.7/site-packages/IPython/core/interactiveshell.py(3473): run_ast_nodes\n",
      "/home/zhaojieh/miniconda3/envs/chronos-dev/lib/python3.7/site-packages/IPython/core/interactiveshell.py(3258): run_cell_async\n",
      "/home/zhaojieh/miniconda3/envs/chronos-dev/lib/python3.7/site-packages/IPython/core/async_helpers.py(78): _pseudo_sync_runner\n",
      "/home/zhaojieh/miniconda3/envs/chronos-dev/lib/python3.7/site-packages/IPython/core/interactiveshell.py(3030): _run_cell\n",
      "/home/zhaojieh/miniconda3/envs/chronos-dev/lib/python3.7/site-packages/IPython/core/interactiveshell.py(2976): run_cell\n",
      "/home/zhaojieh/miniconda3/envs/chronos-dev/lib/python3.7/site-packages/ipykernel/zmqshell.py(528): run_cell\n",
      "/home/zhaojieh/miniconda3/envs/chronos-dev/lib/python3.7/site-packages/ipykernel/ipkernel.py(387): do_execute\n",
      "/home/zhaojieh/miniconda3/envs/chronos-dev/lib/python3.7/site-packages/ipykernel/kernelbase.py(730): execute_request\n",
      "/home/zhaojieh/miniconda3/envs/chronos-dev/lib/python3.7/site-packages/ipykernel/kernelbase.py(406): dispatch_shell\n",
      "/home/zhaojieh/miniconda3/envs/chronos-dev/lib/python3.7/site-packages/ipykernel/kernelbase.py(499): process_one\n",
      "/home/zhaojieh/miniconda3/envs/chronos-dev/lib/python3.7/site-packages/ipykernel/kernelbase.py(510): dispatch_queue\n",
      "/home/zhaojieh/miniconda3/envs/chronos-dev/lib/python3.7/asyncio/events.py(88): _run\n",
      "/home/zhaojieh/miniconda3/envs/chronos-dev/lib/python3.7/asyncio/base_events.py(1786): _run_once\n",
      "/home/zhaojieh/miniconda3/envs/chronos-dev/lib/python3.7/asyncio/base_events.py(541): run_forever\n",
      "/home/zhaojieh/miniconda3/envs/chronos-dev/lib/python3.7/site-packages/tornado/platform/asyncio.py(215): start\n",
      "/home/zhaojieh/miniconda3/envs/chronos-dev/lib/python3.7/site-packages/ipykernel/kernelapp.py(712): start\n",
      "/home/zhaojieh/miniconda3/envs/chronos-dev/lib/python3.7/site-packages/traitlets/config/application.py(982): launch_instance\n",
      "/home/zhaojieh/miniconda3/envs/chronos-dev/lib/python3.7/site-packages/ipykernel_launcher.py(17): <module>\n",
      "/home/zhaojieh/miniconda3/envs/chronos-dev/lib/python3.7/runpy.py(85): _run_code\n",
      "/home/zhaojieh/miniconda3/envs/chronos-dev/lib/python3.7/runpy.py(193): _run_module_as_main\n",
      "RuntimeError: expected scalar type Double but found Float\n",
      "\"\n",
      "}\n",
      "    \n"
     ]
    }
   ],
   "source": [
    "print(\"\"\"\n",
    "{\n",
    "\t\"name\": \"RuntimeError\",\n",
    "\t\"message\": \"The following operation failed in the TorchScript interpreter.\\nTraceback of TorchScript, serialized code (most recent call last):\\n  File \\\"code/__torch__/bigdl/chronos/forecaster/utils.py\\\", line 14, in forward\\n    preprocess_output = (preprocess).forward(data, )\\n    inference = self.inference\\n    inference_output = (inference).forward(preprocess_output, )\\n                        ~~~~~~~~~~~~~~~~~~ <--- HERE\\n    postprocess = self.postprocess\\n    postprocess_output = (postprocess).forward(inference_output, )\\n  File \\\"code/__torch__/bigdl/nano/pytorch/lightning/___torch_mangle_88.py\\\", line 11, in forward\\n    x0 = torch.sub(x, seq_last)\\n    input = torch.permute(x0, [0, 2, 1])\\n    input0 = torch._convolution(input, CONSTANTS.c0, CONSTANTS.c1, [1], [2], [1], False, [0], 1, False, False, True, True)\\n             ~~~~~~~~~~~~~~~~~~ <--- HERE\\n    input1 = torch.relu(input0)\\n    _2 = torch.slice(input1, 0, 0, 9223372036854775807)\\n\\nTraceback of TorchScript, original code (most recent call last):\\n  File \\\"/home/zhaojieh/BigDL-hzj/python/chronos/src/bigdl/chronos/forecaster/utils.py\\\", line 194, in forward\\n    def forward(self, data):\\n        preprocess_output = self.preprocess.forward(data)\\n        inference_output = self.inference.forward(preprocess_output)\\n                           ~~~~~~~~~~~~~~~~~~~~~~ <--- HERE\\n        postprocess_output = self.postprocess(inference_output)\\n        return postprocess_output\\n/home/zhaojieh/miniconda3/envs/chronos-dev/lib/python3.7/site-packages/torch/nn/modules/conv.py(304): _conv_forward\\n/home/zhaojieh/miniconda3/envs/chronos-dev/lib/python3.7/site-packages/torch/nn/modules/conv.py(307): forward\\n/home/zhaojieh/miniconda3/envs/chronos-dev/lib/python3.7/site-packages/torch/nn/modules/module.py(1118): _slow_forward\\n/home/zhaojieh/miniconda3/envs/chronos-dev/lib/python3.7/site-packages/torch/nn/modules/module.py(1130): _call_impl\\n/home/zhaojieh/miniconda3/envs/chronos-dev/lib/python3.7/site-packages/torch/nn/modules/container.py(139): forward\\n/home/zhaojieh/miniconda3/envs/chronos-dev/lib/python3.7/site-packages/torch/nn/modules/module.py(1118): _slow_forward\\n/home/zhaojieh/miniconda3/envs/chronos-dev/lib/python3.7/site-packages/torch/nn/modules/module.py(1130): _call_impl\\n/home/zhaojieh/BigDL-hzj/python/chronos/src/bigdl/chronos/model/tcn.py(100): forward\\n/home/zhaojieh/miniconda3/envs/chronos-dev/lib/python3.7/site-packages/torch/nn/modules/module.py(1118): _slow_forward\\n/home/zhaojieh/miniconda3/envs/chronos-dev/lib/python3.7/site-packages/torch/nn/modules/module.py(1130): _call_impl\\n/home/zhaojieh/miniconda3/envs/chronos-dev/lib/python3.7/site-packages/torch/nn/modules/container.py(139): forward\\n/home/zhaojieh/miniconda3/envs/chronos-dev/lib/python3.7/site-packages/torch/nn/modules/module.py(1118): _slow_forward\\n/home/zhaojieh/miniconda3/envs/chronos-dev/lib/python3.7/site-packages/torch/nn/modules/module.py(1130): _call_impl\\n/home/zhaojieh/BigDL-hzj/python/chronos/src/bigdl/chronos/model/tcn.py(142): forward\\n/home/zhaojieh/miniconda3/envs/chronos-dev/lib/python3.7/site-packages/torch/nn/modules/module.py(1118): _slow_forward\\n/home/zhaojieh/miniconda3/envs/chronos-dev/lib/python3.7/site-packages/torch/nn/modules/module.py(1130): _call_impl\\n/home/zhaojieh/BigDL-hzj/python/chronos/src/bigdl/chronos/pytorch/model_wrapper/normalization.py(35): forward\\n/home/zhaojieh/miniconda3/envs/chronos-dev/lib/python3.7/site-packages/torch/nn/modules/module.py(1118): _slow_forward\\n/home/zhaojieh/miniconda3/envs/chronos-dev/lib/python3.7/site-packages/torch/nn/modules/module.py(1130): _call_impl\\n/home/zhaojieh/BigDL-hzj/python/nano/src/bigdl/nano/pytorch/lightning.py(99): forward\\n/home/zhaojieh/miniconda3/envs/chronos-dev/lib/python3.7/site-packages/torch/nn/modules/module.py(1118): _slow_forward\\n/home/zhaojieh/miniconda3/envs/chronos-dev/lib/python3.7/site-packages/torch/nn/modules/module.py(1130): _call_impl\\n/home/zhaojieh/miniconda3/envs/chronos-dev/lib/python3.7/site-packages/torch/jit/_trace.py(974): trace_module\\n/home/zhaojieh/miniconda3/envs/chronos-dev/lib/python3.7/site-packages/torch/jit/_trace.py(759): trace\\n/home/zhaojieh/BigDL-hzj/python/nano/src/bigdl/nano/deps/ipex/ipex_inference_model.py(112): __init__\\n/home/zhaojieh/BigDL-hzj/python/nano/src/bigdl/nano/deps/ipex/ipex_api.py(62): PytorchIPEXJITModel\\n/home/zhaojieh/BigDL-hzj/python/nano/src/bigdl/nano/pytorch/inference/optimizer.py(918): trace\\n/home/zhaojieh/BigDL-hzj/python/chronos/src/bigdl/chronos/forecaster/base_forecaster.py(1576): build_jit\\n/home/zhaojieh/BigDL-hzj/python/chronos/src/bigdl/chronos/forecaster/base_forecaster.py(1653): export_torchscript_file\\n/home/zhaojieh/BigDL-hzj/python/chronos/src/bigdl/chronos/forecaster/base_forecaster.py(1662): export_torchscript_module\\n/tmp/ipykernel_28184/2975897614.py(4): <module>\\n/home/zhaojieh/miniconda3/envs/chronos-dev/lib/python3.7/site-packages/IPython/core/interactiveshell.py(3553): run_code\\n/home/zhaojieh/miniconda3/envs/chronos-dev/lib/python3.7/site-packages/IPython/core/interactiveshell.py(3473): run_ast_nodes\\n/home/zhaojieh/miniconda3/envs/chronos-dev/lib/python3.7/site-packages/IPython/core/interactiveshell.py(3258): run_cell_async\\n/home/zhaojieh/miniconda3/envs/chronos-dev/lib/python3.7/site-packages/IPython/core/async_helpers.py(78): _pseudo_sync_runner\\n/home/zhaojieh/miniconda3/envs/chronos-dev/lib/python3.7/site-packages/IPython/core/interactiveshell.py(3030): _run_cell\\n/home/zhaojieh/miniconda3/envs/chronos-dev/lib/python3.7/site-packages/IPython/core/interactiveshell.py(2976): run_cell\\n/home/zhaojieh/miniconda3/envs/chronos-dev/lib/python3.7/site-packages/ipykernel/zmqshell.py(528): run_cell\\n/home/zhaojieh/miniconda3/envs/chronos-dev/lib/python3.7/site-packages/ipykernel/ipkernel.py(387): do_execute\\n/home/zhaojieh/miniconda3/envs/chronos-dev/lib/python3.7/site-packages/ipykernel/kernelbase.py(730): execute_request\\n/home/zhaojieh/miniconda3/envs/chronos-dev/lib/python3.7/site-packages/ipykernel/kernelbase.py(406): dispatch_shell\\n/home/zhaojieh/miniconda3/envs/chronos-dev/lib/python3.7/site-packages/ipykernel/kernelbase.py(499): process_one\\n/home/zhaojieh/miniconda3/envs/chronos-dev/lib/python3.7/site-packages/ipykernel/kernelbase.py(510): dispatch_queue\\n/home/zhaojieh/miniconda3/envs/chronos-dev/lib/python3.7/asyncio/events.py(88): _run\\n/home/zhaojieh/miniconda3/envs/chronos-dev/lib/python3.7/asyncio/base_events.py(1786): _run_once\\n/home/zhaojieh/miniconda3/envs/chronos-dev/lib/python3.7/asyncio/base_events.py(541): run_forever\\n/home/zhaojieh/miniconda3/envs/chronos-dev/lib/python3.7/site-packages/tornado/platform/asyncio.py(215): start\\n/home/zhaojieh/miniconda3/envs/chronos-dev/lib/python3.7/site-packages/ipykernel/kernelapp.py(712): start\\n/home/zhaojieh/miniconda3/envs/chronos-dev/lib/python3.7/site-packages/traitlets/config/application.py(982): launch_instance\\n/home/zhaojieh/miniconda3/envs/chronos-dev/lib/python3.7/site-packages/ipykernel_launcher.py(17): <module>\\n/home/zhaojieh/miniconda3/envs/chronos-dev/lib/python3.7/runpy.py(85): _run_code\\n/home/zhaojieh/miniconda3/envs/chronos-dev/lib/python3.7/runpy.py(193): _run_module_as_main\\nRuntimeError: expected scalar type Double but found Float\\n\",\n",
    "\t\"stack\": \"\\u001b[0;31m---------------------------------------------------------------------------\\u001b[0m\\n\\u001b[0;31mRuntimeError\\u001b[0m                              Traceback (most recent call last)\\n\\u001b[0;32m/tmp/ipykernel_28184/1269694426.py\\u001b[0m in \\u001b[0;36m<module>\\u001b[0;34m\\u001b[0m\\n\\u001b[1;32m     18\\u001b[0m \\u001b[0mjit_module\\u001b[0m \\u001b[0;34m=\\u001b[0m \\u001b[0mtorch\\u001b[0m\\u001b[0;34m.\\u001b[0m\\u001b[0mjit\\u001b[0m\\u001b[0;34m.\\u001b[0m\\u001b[0mload\\u001b[0m\\u001b[0;34m(\\u001b[0m\\u001b[0mjit_path\\u001b[0m\\u001b[0;34m)\\u001b[0m\\u001b[0;34m\\u001b[0m\\u001b[0;34m\\u001b[0m\\u001b[0m\\n\\u001b[1;32m     19\\u001b[0m \\u001b[0;34m\\u001b[0m\\u001b[0m\\n\\u001b[0;32m---> 20\\u001b[0;31m \\u001b[0moutput\\u001b[0m \\u001b[0;34m=\\u001b[0m \\u001b[0mjit_module\\u001b[0m\\u001b[0;34m.\\u001b[0m\\u001b[0mforward\\u001b[0m\\u001b[0;34m(\\u001b[0m\\u001b[0minput_tensor\\u001b[0m\\u001b[0;34m)\\u001b[0m\\u001b[0;34m\\u001b[0m\\u001b[0;34m\\u001b[0m\\u001b[0m\\n\\u001b[0m\\n\\u001b[0;31mRuntimeError\\u001b[0m: The following operation failed in the TorchScript interpreter.\\nTraceback of TorchScript, serialized code (most recent call last):\\n  File \\\"code/__torch__/bigdl/chronos/forecaster/utils.py\\\", line 14, in forward\\n    preprocess_output = (preprocess).forward(data, )\\n    inference = self.inference\\n    inference_output = (inference).forward(preprocess_output, )\\n                        ~~~~~~~~~~~~~~~~~~ <--- HERE\\n    postprocess = self.postprocess\\n    postprocess_output = (postprocess).forward(inference_output, )\\n  File \\\"code/__torch__/bigdl/nano/pytorch/lightning/___torch_mangle_88.py\\\", line 11, in forward\\n    x0 = torch.sub(x, seq_last)\\n    input = torch.permute(x0, [0, 2, 1])\\n    input0 = torch._convolution(input, CONSTANTS.c0, CONSTANTS.c1, [1], [2], [1], False, [0], 1, False, False, True, True)\\n             ~~~~~~~~~~~~~~~~~~ <--- HERE\\n    input1 = torch.relu(input0)\\n    _2 = torch.slice(input1, 0, 0, 9223372036854775807)\\n\\nTraceback of TorchScript, original code (most recent call last):\\n  File \\\"/home/zhaojieh/BigDL-hzj/python/chronos/src/bigdl/chronos/forecaster/utils.py\\\", line 194, in forward\\n    def forward(self, data):\\n        preprocess_output = self.preprocess.forward(data)\\n        inference_output = self.inference.forward(preprocess_output)\\n                           ~~~~~~~~~~~~~~~~~~~~~~ <--- HERE\\n        postprocess_output = self.postprocess(inference_output)\\n        return postprocess_output\\n/home/zhaojieh/miniconda3/envs/chronos-dev/lib/python3.7/site-packages/torch/nn/modules/conv.py(304): _conv_forward\\n/home/zhaojieh/miniconda3/envs/chronos-dev/lib/python3.7/site-packages/torch/nn/modules/conv.py(307): forward\\n/home/zhaojieh/miniconda3/envs/chronos-dev/lib/python3.7/site-packages/torch/nn/modules/module.py(1118): _slow_forward\\n/home/zhaojieh/miniconda3/envs/chronos-dev/lib/python3.7/site-packages/torch/nn/modules/module.py(1130): _call_impl\\n/home/zhaojieh/miniconda3/envs/chronos-dev/lib/python3.7/site-packages/torch/nn/modules/container.py(139): forward\\n/home/zhaojieh/miniconda3/envs/chronos-dev/lib/python3.7/site-packages/torch/nn/modules/module.py(1118): _slow_forward\\n/home/zhaojieh/miniconda3/envs/chronos-dev/lib/python3.7/site-packages/torch/nn/modules/module.py(1130): _call_impl\\n/home/zhaojieh/BigDL-hzj/python/chronos/src/bigdl/chronos/model/tcn.py(100): forward\\n/home/zhaojieh/miniconda3/envs/chronos-dev/lib/python3.7/site-packages/torch/nn/modules/module.py(1118): _slow_forward\\n/home/zhaojieh/miniconda3/envs/chronos-dev/lib/python3.7/site-packages/torch/nn/modules/module.py(1130): _call_impl\\n/home/zhaojieh/miniconda3/envs/chronos-dev/lib/python3.7/site-packages/torch/nn/modules/container.py(139): forward\\n/home/zhaojieh/miniconda3/envs/chronos-dev/lib/python3.7/site-packages/torch/nn/modules/module.py(1118): _slow_forward\\n/home/zhaojieh/miniconda3/envs/chronos-dev/lib/python3.7/site-packages/torch/nn/modules/module.py(1130): _call_impl\\n/home/zhaojieh/BigDL-hzj/python/chronos/src/bigdl/chronos/model/tcn.py(142): forward\\n/home/zhaojieh/miniconda3/envs/chronos-dev/lib/python3.7/site-packages/torch/nn/modules/module.py(1118): _slow_forward\\n/home/zhaojieh/miniconda3/envs/chronos-dev/lib/python3.7/site-packages/torch/nn/modules/module.py(1130): _call_impl\\n/home/zhaojieh/BigDL-hzj/python/chronos/src/bigdl/chronos/pytorch/model_wrapper/normalization.py(35): forward\\n/home/zhaojieh/miniconda3/envs/chronos-dev/lib/python3.7/site-packages/torch/nn/modules/module.py(1118): _slow_forward\\n/home/zhaojieh/miniconda3/envs/chronos-dev/lib/python3.7/site-packages/torch/nn/modules/module.py(1130): _call_impl\\n/home/zhaojieh/BigDL-hzj/python/nano/src/bigdl/nano/pytorch/lightning.py(99): forward\\n/home/zhaojieh/miniconda3/envs/chronos-dev/lib/python3.7/site-packages/torch/nn/modules/module.py(1118): _slow_forward\\n/home/zhaojieh/miniconda3/envs/chronos-dev/lib/python3.7/site-packages/torch/nn/modules/module.py(1130): _call_impl\\n/home/zhaojieh/miniconda3/envs/chronos-dev/lib/python3.7/site-packages/torch/jit/_trace.py(974): trace_module\\n/home/zhaojieh/miniconda3/envs/chronos-dev/lib/python3.7/site-packages/torch/jit/_trace.py(759): trace\\n/home/zhaojieh/BigDL-hzj/python/nano/src/bigdl/nano/deps/ipex/ipex_inference_model.py(112): __init__\\n/home/zhaojieh/BigDL-hzj/python/nano/src/bigdl/nano/deps/ipex/ipex_api.py(62): PytorchIPEXJITModel\\n/home/zhaojieh/BigDL-hzj/python/nano/src/bigdl/nano/pytorch/inference/optimizer.py(918): trace\\n/home/zhaojieh/BigDL-hzj/python/chronos/src/bigdl/chronos/forecaster/base_forecaster.py(1576): build_jit\\n/home/zhaojieh/BigDL-hzj/python/chronos/src/bigdl/chronos/forecaster/base_forecaster.py(1653): export_torchscript_file\\n/home/zhaojieh/BigDL-hzj/python/chronos/src/bigdl/chronos/forecaster/base_forecaster.py(1662): export_torchscript_module\\n/tmp/ipykernel_28184/2975897614.py(4): <module>\\n/home/zhaojieh/miniconda3/envs/chronos-dev/lib/python3.7/site-packages/IPython/core/interactiveshell.py(3553): run_code\\n/home/zhaojieh/miniconda3/envs/chronos-dev/lib/python3.7/site-packages/IPython/core/interactiveshell.py(3473): run_ast_nodes\\n/home/zhaojieh/miniconda3/envs/chronos-dev/lib/python3.7/site-packages/IPython/core/interactiveshell.py(3258): run_cell_async\\n/home/zhaojieh/miniconda3/envs/chronos-dev/lib/python3.7/site-packages/IPython/core/async_helpers.py(78): _pseudo_sync_runner\\n/home/zhaojieh/miniconda3/envs/chronos-dev/lib/python3.7/site-packages/IPython/core/interactiveshell.py(3030): _run_cell\\n/home/zhaojieh/miniconda3/envs/chronos-dev/lib/python3.7/site-packages/IPython/core/interactiveshell.py(2976): run_cell\\n/home/zhaojieh/miniconda3/envs/chronos-dev/lib/python3.7/site-packages/ipykernel/zmqshell.py(528): run_cell\\n/home/zhaojieh/miniconda3/envs/chronos-dev/lib/python3.7/site-packages/ipykernel/ipkernel.py(387): do_execute\\n/home/zhaojieh/miniconda3/envs/chronos-dev/lib/python3.7/site-packages/ipykernel/kernelbase.py(730): execute_request\\n/home/zhaojieh/miniconda3/envs/chronos-dev/lib/python3.7/site-packages/ipykernel/kernelbase.py(406): dispatch_shell\\n/home/zhaojieh/miniconda3/envs/chronos-dev/lib/python3.7/site-packages/ipykernel/kernelbase.py(499): process_one\\n/home/zhaojieh/miniconda3/envs/chronos-dev/lib/python3.7/site-packages/ipykernel/kernelbase.py(510): dispatch_queue\\n/home/zhaojieh/miniconda3/envs/chronos-dev/lib/python3.7/asyncio/events.py(88): _run\\n/home/zhaojieh/miniconda3/envs/chronos-dev/lib/python3.7/asyncio/base_events.py(1786): _run_once\\n/home/zhaojieh/miniconda3/envs/chronos-dev/lib/python3.7/asyncio/base_events.py(541): run_forever\\n/home/zhaojieh/miniconda3/envs/chronos-dev/lib/python3.7/site-packages/tornado/platform/asyncio.py(215): start\\n/home/zhaojieh/miniconda3/envs/chronos-dev/lib/python3.7/site-packages/ipykernel/kernelapp.py(712): start\\n/home/zhaojieh/miniconda3/envs/chronos-dev/lib/python3.7/site-packages/traitlets/config/application.py(982): launch_instance\\n/home/zhaojieh/miniconda3/envs/chronos-dev/lib/python3.7/site-packages/ipykernel_launcher.py(17): <module>\\n/home/zhaojieh/miniconda3/envs/chronos-dev/lib/python3.7/runpy.py(85): _run_code\\n/home/zhaojieh/miniconda3/envs/chronos-dev/lib/python3.7/runpy.py(193): _run_module_as_main\\nRuntimeError: expected scalar type Double but found Float\\n\"\n",
    "}\n",
    "    \"\"\")"
   ]
  }
 ],
 "metadata": {
  "kernelspec": {
   "display_name": "Python 3.7.15 ('chronos-dev')",
   "language": "python",
   "name": "python3"
  },
  "language_info": {
   "codemirror_mode": {
    "name": "ipython",
    "version": 3
   },
   "file_extension": ".py",
   "mimetype": "text/x-python",
   "name": "python",
   "nbconvert_exporter": "python",
   "pygments_lexer": "ipython3",
   "version": "3.7.15"
  },
  "orig_nbformat": 4,
  "vscode": {
   "interpreter": {
    "hash": "edcf3a1384e0c635c6a1374bbfb4bfc5de419d28ba5059a4c674cfed4e784c9a"
   }
  }
 },
 "nbformat": 4,
 "nbformat_minor": 2
}
