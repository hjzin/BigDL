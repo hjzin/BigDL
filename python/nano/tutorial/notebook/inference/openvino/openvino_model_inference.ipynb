{
 "cells": [
  {
   "cell_type": "markdown",
   "metadata": {},
   "source": [
    "<style>\n",
    "    .rst-content blockquote {\n",
    "        margin-left: 0px;\n",
    "    }\n",
    "    \n",
    "    blockquote > div {\n",
    "        margin: 1.5625em auto;\n",
    "        padding: 20px 15px 1px;\n",
    "        border-left: 0.2rem solid rgb(59, 136, 219);  \n",
    "        border-radius: 0.2rem;\n",
    "        box-shadow: 0 0.2rem 0.5rem rgb(0 0 0 / 5%), 0 0 0.0625rem rgb(0 0 0 / 10%);\n",
    "    }\n",
    "</style>\n",
    "\n",
    "[View the runnable example on GitHub](https://github.com/intel-analytics/BigDL/tree/main/python/nano/tutorial/notebook/inference/openvino/openvino_model_inference.ipynb)"
   ]
  },
  {
   "cell_type": "markdown",
   "metadata": {},
   "source": [
    "# Inference with OpenVINO model using Nano API"
   ]
  },
  {
   "cell_type": "markdown",
   "metadata": {},
   "source": [
    "You can use ``OpenVInoModel`` class in Nano to load a OpenVINO model and run inference. It only takes a few lines."
   ]
  },
  {
   "cell_type": "markdown",
   "metadata": {
    "nbsphinx": "hidden"
   },
   "source": [
    "To run inference on OpenVINO model with Nano, the following dependencies need to be installed first:"
   ]
  },
  {
   "cell_type": "code",
   "execution_count": 1,
   "metadata": {
    "nbsphinx": "hidden"
   },
   "outputs": [
    {
     "name": "stdout",
     "output_type": "stream",
     "text": [
      "Collecting bigdl-nano\n",
      "  Downloading bigdl_nano-2.1.0b20220914-py3-none-manylinux2010_x86_64.whl (2.9 MB)\n",
      "\u001b[2K     \u001b[90m━━━━━━━━━━━━━━━━━━━━━━━━━━━━━━━━━━━━━━━━\u001b[0m \u001b[32m2.9/2.9 MB\u001b[0m \u001b[31m2.2 MB/s\u001b[0m eta \u001b[36m0:00:00\u001b[0ma \u001b[36m0:00:01\u001b[0m0m\n",
      "\u001b[?25hCollecting cloudpickle\n",
      "  Downloading cloudpickle-2.2.0-py3-none-any.whl (25 kB)\n",
      "Collecting protobuf==3.19.4\n",
      "  Using cached protobuf-3.19.4-cp38-cp38-manylinux_2_17_x86_64.manylinux2014_x86_64.whl (1.1 MB)\n",
      "Collecting intel-openmp\n",
      "  Using cached intel_openmp-2022.1.0-py2.py3-none-manylinux1_x86_64.whl (10.7 MB)\n",
      "Installing collected packages: intel-openmp, protobuf, cloudpickle, bigdl-nano\n",
      "Successfully installed bigdl-nano-2.1.0b20220914 cloudpickle-2.2.0 intel-openmp-2022.1.0 protobuf-3.19.4\n",
      "Collecting openvino-dev\n",
      "  Using cached openvino_dev-2022.1.0-7019-py3-none-any.whl (5.8 MB)\n",
      "Collecting requests>=2.25.1\n",
      "  Using cached requests-2.28.1-py3-none-any.whl (62 kB)\n",
      "Collecting openvino==2022.1.0\n",
      "  Using cached openvino-2022.1.0-7019-cp38-cp38-manylinux_2_27_x86_64.whl (26.1 MB)\n",
      "Collecting progress>=1.5\n",
      "  Using cached progress-1.6-py3-none-any.whl\n",
      "Collecting opencv-python==4.5.*\n",
      "  Using cached opencv_python-4.5.5.64-cp36-abi3-manylinux_2_17_x86_64.manylinux2014_x86_64.whl (60.5 MB)\n",
      "Collecting sentencepiece>=0.1.95\n",
      "  Using cached sentencepiece-0.1.97-cp38-cp38-manylinux_2_17_x86_64.manylinux2014_x86_64.whl (1.3 MB)\n",
      "Collecting parasail>=1.2.4\n",
      "  Using cached parasail-1.3.3-py2.py3-none-manylinux_2_17_x86_64.manylinux2014_x86_64.whl (15.6 MB)\n",
      "Collecting addict>=2.4.0\n",
      "  Using cached addict-2.4.0-py3-none-any.whl (3.8 kB)\n",
      "Collecting pyyaml>=5.4.1\n",
      "  Using cached PyYAML-6.0-cp38-cp38-manylinux_2_5_x86_64.manylinux1_x86_64.manylinux_2_12_x86_64.manylinux2010_x86_64.whl (701 kB)\n",
      "Collecting transformers>=4.5\n",
      "  Downloading transformers-4.22.0-py3-none-any.whl (4.9 MB)\n",
      "\u001b[2K     \u001b[90m━━━━━━━━━━━━━━━━━━━━━━━━━━━━━━━━━━━━━━━━\u001b[0m \u001b[32m4.9/4.9 MB\u001b[0m \u001b[31m3.2 MB/s\u001b[0m eta \u001b[36m0:00:00\u001b[0ma \u001b[36m0:00:01\u001b[0m0m\n",
      "\u001b[?25hCollecting defusedxml>=0.7.1\n",
      "  Using cached defusedxml-0.7.1-py2.py3-none-any.whl (25 kB)\n",
      "Collecting pydicom>=2.1.2\n",
      "  Using cached pydicom-2.3.0-py3-none-any.whl (2.0 MB)\n",
      "Collecting lmdb>=1.2.1\n",
      "  Using cached lmdb-1.3.0-cp38-cp38-manylinux_2_12_x86_64.manylinux2010_x86_64.whl (305 kB)\n",
      "Collecting scikit-image>=0.17.2\n",
      "  Using cached scikit_image-0.19.3-cp38-cp38-manylinux_2_17_x86_64.manylinux2014_x86_64.whl (14.0 MB)\n",
      "Collecting pandas~=1.1.5\n",
      "  Using cached pandas-1.1.5-cp38-cp38-manylinux1_x86_64.whl (9.3 MB)\n",
      "Collecting rawpy>=0.16.0\n",
      "  Using cached rawpy-0.17.2-cp38-cp38-manylinux_2_17_x86_64.manylinux2014_x86_64.whl (1.9 MB)\n",
      "Collecting texttable~=1.6.3\n",
      "  Using cached texttable-1.6.4-py2.py3-none-any.whl (10 kB)\n",
      "Collecting tqdm>=4.54.1\n",
      "  Downloading tqdm-4.64.1-py2.py3-none-any.whl (78 kB)\n",
      "\u001b[2K     \u001b[90m━━━━━━━━━━━━━━━━━━━━━━━━━━━━━━━━━━━━━━━\u001b[0m \u001b[32m78.5/78.5 kB\u001b[0m \u001b[31m384.9 kB/s\u001b[0m eta \u001b[36m0:00:00\u001b[0m:--:--\u001b[0m\n",
      "\u001b[?25hCollecting nltk>=3.5\n",
      "  Using cached nltk-3.7-py3-none-any.whl (1.5 MB)\n",
      "Collecting fast-ctc-decode>=0.2.5\n",
      "  Using cached fast_ctc_decode-0.3.2-cp38-cp38-manylinux_2_5_x86_64.manylinux1_x86_64.manylinux_2_12_x86_64.manylinux2010_x86_64.whl (517 kB)\n",
      "Collecting numpy<1.20,>=1.16.6\n",
      "  Using cached numpy-1.19.5-cp38-cp38-manylinux2010_x86_64.whl (14.9 MB)\n",
      "Collecting scipy~=1.5.4\n",
      "  Using cached scipy-1.5.4-cp38-cp38-manylinux1_x86_64.whl (25.8 MB)\n",
      "Collecting jstyleson~=0.0.2\n",
      "  Using cached jstyleson-0.0.2-py3-none-any.whl\n",
      "Collecting imagecodecs\n",
      "  Using cached imagecodecs-2022.8.8-cp38-cp38-manylinux_2_17_x86_64.manylinux2014_x86_64.whl (34.3 MB)\n",
      "Collecting tokenizers~=0.10.1\n",
      "  Using cached tokenizers-0.10.3-cp38-cp38-manylinux_2_5_x86_64.manylinux1_x86_64.manylinux_2_12_x86_64.manylinux2010_x86_64.whl (3.3 MB)\n",
      "Collecting pyclipper>=1.2.1\n",
      "  Using cached pyclipper-1.3.0.post3-cp38-cp38-manylinux_2_5_x86_64.manylinux1_x86_64.whl (619 kB)\n",
      "Collecting scikit-learn~=0.24.1\n",
      "  Using cached scikit_learn-0.24.2-cp38-cp38-manylinux2010_x86_64.whl (24.9 MB)\n",
      "Collecting nibabel>=3.2.1\n",
      "  Using cached nibabel-4.0.2-py3-none-any.whl (3.3 MB)\n",
      "Collecting openvino-telemetry>=2022.1.0\n",
      "  Using cached openvino_telemetry-2022.1.1-py3-none-any.whl (20 kB)\n",
      "Collecting networkx~=2.6\n",
      "  Using cached networkx-2.8.6-py3-none-any.whl (2.0 MB)\n",
      "Collecting shapely>=1.7.1\n",
      "  Using cached Shapely-1.8.4-cp38-cp38-manylinux_2_12_x86_64.manylinux2010_x86_64.whl (2.1 MB)\n",
      "Collecting pillow>=8.1.2\n",
      "  Using cached Pillow-9.2.0-cp38-cp38-manylinux_2_28_x86_64.whl (3.2 MB)\n",
      "Collecting py-cpuinfo>=7.0.0\n",
      "  Using cached py_cpuinfo-8.0.0-py3-none-any.whl\n",
      "Requirement already satisfied: setuptools in /home/zhaojieh/miniconda3/envs/nano-ntb-test/lib/python3.8/site-packages (from nibabel>=3.2.1->openvino-dev) (63.4.1)\n",
      "Requirement already satisfied: packaging>=17.0 in /home/zhaojieh/miniconda3/envs/nano-ntb-test/lib/python3.8/site-packages (from nibabel>=3.2.1->openvino-dev) (21.3)\n",
      "Collecting regex>=2021.8.3\n",
      "  Downloading regex-2022.9.13-cp38-cp38-manylinux_2_17_x86_64.manylinux2014_x86_64.whl (772 kB)\n",
      "\u001b[2K     \u001b[90m━━━━━━━━━━━━━━━━━━━━━━━━━━━━━━━━━━━━━\u001b[0m \u001b[32m772.3/772.3 kB\u001b[0m \u001b[31m982.6 kB/s\u001b[0m eta \u001b[36m0:00:00\u001b[0ma \u001b[36m0:00:01\u001b[0m\n",
      "\u001b[?25hCollecting joblib\n",
      "  Using cached joblib-1.1.0-py2.py3-none-any.whl (306 kB)\n",
      "Collecting click\n",
      "  Using cached click-8.1.3-py3-none-any.whl (96 kB)\n",
      "Collecting pytz>=2017.2\n",
      "  Using cached pytz-2022.2.1-py2.py3-none-any.whl (500 kB)\n",
      "Requirement already satisfied: python-dateutil>=2.7.3 in /home/zhaojieh/miniconda3/envs/nano-ntb-test/lib/python3.8/site-packages (from pandas~=1.1.5->openvino-dev) (2.8.2)\n",
      "Collecting idna<4,>=2.5\n",
      "  Downloading idna-3.4-py3-none-any.whl (61 kB)\n",
      "\u001b[2K     \u001b[90m━━━━━━━━━━━━━━━━━━━━━━━━━━━━━━━━━━━━━━━━\u001b[0m \u001b[32m61.5/61.5 kB\u001b[0m \u001b[31m10.5 MB/s\u001b[0m eta \u001b[36m0:00:00\u001b[0m\n",
      "\u001b[?25hCollecting urllib3<1.27,>=1.21.1\n",
      "  Using cached urllib3-1.26.12-py2.py3-none-any.whl (140 kB)\n",
      "Requirement already satisfied: certifi>=2017.4.17 in /home/zhaojieh/miniconda3/envs/nano-ntb-test/lib/python3.8/site-packages (from requests>=2.25.1->openvino-dev) (2022.6.15)\n",
      "Collecting charset-normalizer<3,>=2\n",
      "  Using cached charset_normalizer-2.1.1-py3-none-any.whl (39 kB)\n",
      "Collecting tifffile>=2019.7.26\n",
      "  Using cached tifffile-2022.8.12-py3-none-any.whl (208 kB)\n",
      "Collecting imageio>=2.4.1\n",
      "  Downloading imageio-2.21.3-py3-none-any.whl (3.4 MB)\n",
      "\u001b[2K     \u001b[90m━━━━━━━━━━━━━━━━━━━━━━━━━━━━━━━━━━━━━━━━\u001b[0m \u001b[32m3.4/3.4 MB\u001b[0m \u001b[31m2.7 MB/s\u001b[0m eta \u001b[36m0:00:00\u001b[0m00:01\u001b[0m00:01\u001b[0m0m\n",
      "\u001b[?25hCollecting PyWavelets>=1.1.1\n",
      "  Using cached PyWavelets-1.3.0-cp38-cp38-manylinux_2_17_x86_64.manylinux2014_x86_64.whl (6.9 MB)\n",
      "Collecting threadpoolctl>=2.0.0\n",
      "  Using cached threadpoolctl-3.1.0-py3-none-any.whl (14 kB)\n",
      "Collecting filelock\n",
      "  Using cached filelock-3.8.0-py3-none-any.whl (10 kB)\n",
      "Collecting transformers>=4.5\n",
      "  Using cached transformers-4.21.3-py3-none-any.whl (4.7 MB)\n",
      "  Using cached transformers-4.21.2-py3-none-any.whl (4.7 MB)\n",
      "  Using cached transformers-4.21.1-py3-none-any.whl (4.7 MB)\n",
      "  Using cached transformers-4.21.0-py3-none-any.whl (4.7 MB)\n",
      "  Using cached transformers-4.20.1-py3-none-any.whl (4.4 MB)\n",
      "  Using cached transformers-4.20.0-py3-none-any.whl (4.4 MB)\n",
      "  Using cached transformers-4.19.4-py3-none-any.whl (4.2 MB)\n",
      "  Using cached transformers-4.19.3-py3-none-any.whl (4.2 MB)\n",
      "  Using cached transformers-4.19.2-py3-none-any.whl (4.2 MB)\n",
      "  Using cached transformers-4.19.1-py3-none-any.whl (4.2 MB)\n",
      "  Using cached transformers-4.19.0-py3-none-any.whl (4.2 MB)\n",
      "  Using cached transformers-4.18.0-py3-none-any.whl (4.0 MB)\n",
      "  Using cached transformers-4.17.0-py3-none-any.whl (3.8 MB)\n",
      "Collecting sacremoses\n",
      "  Using cached sacremoses-0.0.53-py3-none-any.whl\n",
      "Collecting huggingface-hub<1.0,>=0.1.0\n",
      "  Using cached huggingface_hub-0.9.1-py3-none-any.whl (120 kB)\n",
      "Collecting transformers>=4.5\n",
      "  Using cached transformers-4.16.2-py3-none-any.whl (3.5 MB)\n",
      "Collecting typing-extensions>=3.7.4.3\n",
      "  Using cached typing_extensions-4.3.0-py3-none-any.whl (25 kB)\n",
      "Requirement already satisfied: pyparsing!=3.0.5,>=2.0.2 in /home/zhaojieh/miniconda3/envs/nano-ntb-test/lib/python3.8/site-packages (from packaging>=17.0->nibabel>=3.2.1->openvino-dev) (3.0.9)\n",
      "Requirement already satisfied: six>=1.5 in /home/zhaojieh/miniconda3/envs/nano-ntb-test/lib/python3.8/site-packages (from python-dateutil>=2.7.3->pandas~=1.1.5->openvino-dev) (1.16.0)\n",
      "Installing collected packages: tokenizers, texttable, sentencepiece, pytz, pyclipper, py-cpuinfo, progress, lmdb, jstyleson, fast-ctc-decode, addict, urllib3, typing-extensions, tqdm, threadpoolctl, shapely, regex, pyyaml, pydicom, pillow, numpy, networkx, joblib, idna, filelock, defusedxml, click, charset-normalizer, tifffile, scipy, sacremoses, requests, rawpy, PyWavelets, parasail, pandas, openvino, opencv-python, nltk, nibabel, imageio, imagecodecs, scikit-learn, scikit-image, openvino-telemetry, huggingface-hub, transformers, openvino-dev\n",
      "Successfully installed PyWavelets-1.3.0 addict-2.4.0 charset-normalizer-2.1.1 click-8.1.3 defusedxml-0.7.1 fast-ctc-decode-0.3.2 filelock-3.8.0 huggingface-hub-0.9.1 idna-3.4 imagecodecs-2022.8.8 imageio-2.21.3 joblib-1.1.0 jstyleson-0.0.2 lmdb-1.3.0 networkx-2.8.6 nibabel-4.0.2 nltk-3.7 numpy-1.19.5 opencv-python-4.5.5.64 openvino-2022.1.0 openvino-dev-2022.1.0 openvino-telemetry-2022.1.1 pandas-1.1.5 parasail-1.3.3 pillow-9.2.0 progress-1.6 py-cpuinfo-8.0.0 pyclipper-1.3.0.post3 pydicom-2.3.0 pytz-2022.2.1 pyyaml-6.0 rawpy-0.17.2 regex-2022.9.13 requests-2.28.1 sacremoses-0.0.53 scikit-image-0.19.3 scikit-learn-0.24.2 scipy-1.5.4 sentencepiece-0.1.97 shapely-1.8.4 texttable-1.6.4 threadpoolctl-3.1.0 tifffile-2022.8.12 tokenizers-0.10.3 tqdm-4.64.1 transformers-4.16.2 typing-extensions-4.3.0 urllib3-1.26.12\n"
     ]
    }
   ],
   "source": [
    "# for BigDL-Nano\n",
    "!pip install --pre --upgrade bigdl-nano # install the nightly-bulit version\n",
    "# !source bigdl-nano-init\n",
    "\n",
    "# for OpenVINO\n",
    "!pip install openvino-dev "
   ]
  },
  {
   "cell_type": "markdown",
   "metadata": {
    "nbsphinx": "hidden"
   },
   "source": [
    "> 📝 **Note**\n",
    ">\n",
    "> We recommend to run the commands above, especially `source bigdl-nano-init` before jupyter kernel is started, or some of the optimizations may not take effect."
   ]
  },
  {
   "cell_type": "markdown",
   "metadata": {},
   "source": [
    "Let's take a pre-trained [resnet18-xnor-binary-onnx-0001](https://docs.openvino.ai/latest/omz_models_model_resnet18_xnor_binary_onnx_0001.html) model from the [Open Model Zoo](https://github.com/openvinotoolkit/open_model_zoo/) as an example. First, we download the model using [omz_downloader](https://docs.openvino.ai/latest/omz_tools_downloader.html):"
   ]
  },
  {
   "cell_type": "code",
   "execution_count": 2,
   "metadata": {},
   "outputs": [
    {
     "name": "stdout",
     "output_type": "stream",
     "text": [
      "################|| Downloading resnet18-xnor-binary-onnx-0001 ||################\n",
      "\n",
      "========== Downloading model/intel/resnet18-xnor-binary-onnx-0001/FP32-INT1/resnet18-xnor-binary-onnx-0001.xml\n",
      "... 100%, 197 KB, 317 KB/s, 0 seconds passed\n",
      "\n",
      "========== Downloading model/intel/resnet18-xnor-binary-onnx-0001/FP32-INT1/resnet18-xnor-binary-onnx-0001.bin\n",
      "... 100%, 4130 KB, 2711 KB/s, 1 seconds passed\n",
      "\n",
      "========== Downloading model/intel/resnet18-xnor-binary-onnx-0001/FP16-INT1/resnet18-xnor-binary-onnx-0001.xml\n",
      "... 100%, 281 KB, 433 KB/s, 0 seconds passed\n",
      "\n",
      "========== Downloading model/intel/resnet18-xnor-binary-onnx-0001/FP16-INT1/resnet18-xnor-binary-onnx-0001.bin\n",
      "... 100%, 2735 KB, 1959 KB/s, 1 seconds passed\n",
      "\n"
     ]
    }
   ],
   "source": [
    "!omz_downloader --name resnet18-xnor-binary-onnx-0001 -o ./model"
   ]
  },
  {
   "cell_type": "markdown",
   "metadata": {},
   "source": [
    "To load the model and run inference, **the only change you need to make is to import BigDL-Nano OpenVINOModel, and pass the xml path of model to it**:"
   ]
  },
  {
   "cell_type": "code",
   "execution_count": 3,
   "metadata": {},
   "outputs": [],
   "source": [
    "from bigdl.nano.openvino import OpenVINOModel\n",
    "\n",
    "ov_model = OpenVINOModel(\"model/intel/resnet18-xnor-binary-onnx-0001/FP16-INT1/resnet18-xnor-binary-onnx-0001.xml\")"
   ]
  },
  {
   "cell_type": "markdown",
   "metadata": {},
   "source": [
    "Then you could call `ov_model(x)` to run inference."
   ]
  },
  {
   "cell_type": "code",
   "execution_count": 11,
   "metadata": {},
   "outputs": [
    {
     "name": "stdout",
     "output_type": "stream",
     "text": [
      "[818]\n"
     ]
    }
   ],
   "source": [
    "import numpy as np\n",
    "\n",
    "x = np.random.randn(1, 3, 224, 224)\n",
    "# call ov_model directly to run inference\n",
    "y_hat = ov_model(x)\n",
    "predictions = next(iter(y_hat.values())).argmax(axis=1)\n",
    "print(predictions)"
   ]
  },
  {
   "cell_type": "markdown",
   "metadata": {},
   "source": [
    "> 📚 **Related Readings**\n",
    "> \n",
    "> - [How to install BigDL-Nano](https://bigdl.readthedocs.io/en/latest/doc/Nano/Overview/nano.html#install)\n",
    "> - [How to install BigDL-Nano in Google Colab](https://bigdl.readthedocs.io/en/latest/doc/Nano/Howto/install_in_colab.html)"
   ]
  }
 ],
 "metadata": {
  "kernelspec": {
   "display_name": "Python 3.8.13 ('nano-ntb-test')",
   "language": "python",
   "name": "python3"
  },
  "language_info": {
   "codemirror_mode": {
    "name": "ipython",
    "version": 3
   },
   "file_extension": ".py",
   "mimetype": "text/x-python",
   "name": "python",
   "nbconvert_exporter": "python",
   "pygments_lexer": "ipython3",
   "version": "3.8.13"
  },
  "orig_nbformat": 4,
  "vscode": {
   "interpreter": {
    "hash": "17dad497ddee600f4f301b7ce5318cf3a54e83cd4426733eef721f035b1c93e9"
   }
  }
 },
 "nbformat": 4,
 "nbformat_minor": 2
}
